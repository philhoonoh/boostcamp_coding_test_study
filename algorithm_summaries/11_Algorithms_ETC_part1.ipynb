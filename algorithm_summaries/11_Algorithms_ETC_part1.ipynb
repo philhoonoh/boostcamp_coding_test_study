{
 "cells": [
  {
   "cell_type": "markdown",
   "id": "969bbfb4",
   "metadata": {},
   "source": [
    "# 11. Algorithms ETC part1"
   ]
  },
  {
   "cell_type": "markdown",
   "id": "9f81a897",
   "metadata": {},
   "source": [
    "# Objective\n",
    "1. Erathosthenes's Sieve (에라토스테네스의 체)\n",
    "2. Two Pointers (투포인터 알고리즘)\n",
    "3. 순열과 조합\n",
    "4. 예시 문제"
   ]
  },
  {
   "cell_type": "markdown",
   "id": "87a439a8",
   "metadata": {},
   "source": [
    "## 1. Erathosthenes's Sieve (에라토스테네스의 체)"
   ]
  },
  {
   "cell_type": "markdown",
   "id": "2de5aaef",
   "metadata": {},
   "source": [
    "### 1-1. 소수(Prime Number) \n",
    "- 소수(Prime Number) 란 __1보다 큰 자연수 중에서 1과 자기 자신을 제외한 자연수로는 나누어떨어지지 않는 자연수__ 입니다. \n",
    "\n",
    "### 1-2. 소수 판별 알고리즘\n",
    "- 소수 판별 알고리즘 문제들이 자주 출제 됩니다. \n",
    "- __하나의 수에 대해 소수 판별하는 알고리즘__은 아래와 같습니다. \n",
    "    - 첫번째 방법은 X를 2부터 X-1까지의 모든 수로 나누어 보는 것이며 시간 복잡도가 $O(X)$로서 비효율적입니다.\n",
    "    - 두번째 방법은 X부터 X의 제곱근까지 수로 나누어보는 것이며 시간 복잡도가 $O(X^{1/2})$ 입니다. \n",
    "\n",
    "\n",
    "### 1-3. Erathosthenes's Sieve (에라토스테네스의 체)\n",
    "- __여러 개의 수가 소수인지 아닌지를 판별할 때 사용하는 대표적인 알고리즘__입니다. \n",
    "- __N 보다 작거나 같은 모든 소수를 찾을 때__ 사용할 수 있습니다.\n",
    "- 알고리즘의 다음과 같습니다.\n",
    "    1. 2부터 N까지의 모든 자연수를 나열합니다.\n",
    "    2. 남은 수 중에서 아직 처리하지 않은 가장 작은수 i를 찾습니다.\n",
    "    3. 남은 수중에서 i의 배수를 모두 제거합니다. (i는 제거하지 않습니다.) \n",
    "    4. 더 이상 반복할 수 없을 때까지 2,3 과정을 반복합니다. (이때 N의 제곱근 까지만 증가시켜 확인해 주면 됩니다.)\n",
    "- 시간 복잡도는 $O(NloglogN)$ 이며 사실상 선형 시간에 동작할 정도로 빠릅니다. \n",
    "- 다만 메모리를 많이 차지하기 때문에 10억이 소수인지 찾아야 하는 문제에서는 에라토스테네스의 체를 이용하기 어렵습니다. \n",
    "- 따라서 N이 1,000,000 이내로 주어지는 경우가 많습니다. "
   ]
  },
  {
   "cell_type": "code",
   "execution_count": 3,
   "id": "b09e4d2f",
   "metadata": {},
   "outputs": [],
   "source": [
    "def check_prime(x):\n",
    "    for i in range(2, x):\n",
    "        if x % i == 0:\n",
    "            return False\n",
    "    return True\n",
    "\n",
    "import math\n",
    "\n",
    "def check_prime_2(x):\n",
    "    for i in range(2, int(math.sqrt(x)) + 1):\n",
    "        if x % i == 0:\n",
    "            return False\n",
    "    return True"
   ]
  },
  {
   "cell_type": "code",
   "execution_count": 4,
   "id": "4a48abdd",
   "metadata": {},
   "outputs": [
    {
     "name": "stdout",
     "output_type": "stream",
     "text": [
      "False\n",
      "True\n",
      "False\n",
      "True\n"
     ]
    }
   ],
   "source": [
    "print(check_prime(4))\n",
    "print(check_prime(7))\n",
    "print(check_prime_2(4))\n",
    "print(check_prime_2(7))"
   ]
  },
  {
   "cell_type": "code",
   "execution_count": 6,
   "id": "5143c796",
   "metadata": {},
   "outputs": [],
   "source": [
    "import math\n",
    "\n",
    "# 에라토스테네스의 체 구현 1\n",
    "def sieve_1(n):\n",
    "    array = [True for i in range(n+1)]\n",
    "    array[0] = False\n",
    "    array[1] = False\n",
    "    \n",
    "    for i in range(2, int(math.sqrt(n)+1)):\n",
    "        if array[i] == True:\n",
    "            j = 2\n",
    "            while i*j<=n:\n",
    "                array[i*j] = False\n",
    "                j += 1\n",
    "    return array\n",
    "\n",
    "# 에라토스테네스의 체 구현 2\n",
    "def sieve_2(n):\n",
    "    sieve = [True] * n\n",
    "    sieve[0] = False\n",
    "    sieve[1] = False\n",
    "    \n",
    "    for i in range(2, int(math.sqrt(n)+1)):\n",
    "        if sieve[i] == True:\n",
    "            for j in range(i+i, n, i):\n",
    "                sieve[j] = False\n",
    "    return sieve"
   ]
  },
  {
   "cell_type": "code",
   "execution_count": 7,
   "id": "b17d21ae",
   "metadata": {},
   "outputs": [
    {
     "name": "stdout",
     "output_type": "stream",
     "text": [
      "0 is prime : False\n",
      "1 is prime : False\n",
      "2 is prime : True\n",
      "3 is prime : True\n",
      "4 is prime : False\n",
      "5 is prime : True\n",
      "6 is prime : False\n",
      "7 is prime : True\n",
      "8 is prime : False\n",
      "9 is prime : False\n"
     ]
    }
   ],
   "source": [
    "array = sieve_1(100)\n",
    "for index, value in enumerate(array[:10]):\n",
    "    print(f'{index} is prime : {value}')"
   ]
  },
  {
   "cell_type": "code",
   "execution_count": 8,
   "id": "39a2f686",
   "metadata": {
    "scrolled": true
   },
   "outputs": [
    {
     "name": "stdout",
     "output_type": "stream",
     "text": [
      "0 is prime : False\n",
      "1 is prime : False\n",
      "2 is prime : True\n",
      "3 is prime : True\n",
      "4 is prime : False\n",
      "5 is prime : True\n",
      "6 is prime : False\n",
      "7 is prime : True\n",
      "8 is prime : False\n",
      "9 is prime : False\n"
     ]
    }
   ],
   "source": [
    "array2 = sieve_2(100)\n",
    "for index, value in enumerate(array2[:10]):\n",
    "    print(f'{index} is prime : {value}')"
   ]
  },
  {
   "cell_type": "markdown",
   "id": "66797cae",
   "metadata": {},
   "source": [
    "## 2. Two Pointers (투 포인터 알고리즘)\n",
    "- __리스트에 순차적으로 접근해야 할 때 2개의 점의 위치를 기록하면서 처리하는 알고리즘__ 을 의미합니다.\n",
    "- 리스트에 담긴 데이터를 순차적으로 접근해야 할 때, __시작점__ 과 __끝점__ 2개의 점으로 접근할 데이터 범위를 표현 할 수 있습니다. "
   ]
  },
  {
   "cell_type": "markdown",
   "id": "7d508658",
   "metadata": {},
   "source": [
    "### 2-1. '특정합을 가지는 부분 연속 수열 찾기'\n",
    "- 양의 정수로만 구성된 리스트가 주어졌을때, 그 부분 연속 수열 중에서 '특정한 합'을 같는 수열의 개수를 출력하는 문제입니다.\n",
    "- 투 포인터 사용\n",
    "- 알고리즘은 다음과 같습니다.\n",
    "    1. 시작점(start)과 끝점(end)가 첫번째 원소의 인덱스(0)를 가리키도록 합니다,\n",
    "    2. 현재 부분합이 M과 같다면 카운트합니다.\n",
    "    3. 현재 부분합이 M보다 작으면 end를 1 증가 시킵니다.\n",
    "    4. 현재 부분합이 M보다 크거나 같으면 start를 1 증가 시킵니다.\n",
    "    5. 모든 경우를 확인할때까지 2번 ~ 4번의 과정을 반복합니다. "
   ]
  },
  {
   "cell_type": "code",
   "execution_count": 17,
   "id": "45d121a1",
   "metadata": {},
   "outputs": [
    {
     "name": "stdout",
     "output_type": "stream",
     "text": [
      "3\n"
     ]
    }
   ],
   "source": [
    "def find_sequence(arr, m):\n",
    "    n = len(arr)\n",
    "    cnt = 0\n",
    "    interval_sum = 0\n",
    "    end = 0\n",
    "    \n",
    "    for start in range(0, n):\n",
    "        \n",
    "        while interval_sum < m and end < n:\n",
    "            interval_sum += arr[end]\n",
    "            end += 1\n",
    "        \n",
    "        if interval_sum == m:\n",
    "            cnt += 1\n",
    "        interval_sum -= arr[start]\n",
    "                \n",
    "    return cnt\n",
    "\n",
    "print(find_sequence([1,2,3,2,5], 5))"
   ]
  },
  {
   "cell_type": "markdown",
   "id": "71105796",
   "metadata": {},
   "source": [
    "### 2-2. '정렬되어 있는 두 리스트의 합집합'\n",
    "- 이미 정렬되어 있는 2개의 리스트가 입력으로 주어지며, 두 리스트의 모든 원소를 합쳐서 정렬한 결과를 계산 하는 것이 문제입니다.\n",
    "- $O(N+M)$ 를 요구합니다. N, M은 주어진 두 리스트의 크기입니다. \n",
    "- 알고리즘은 다음과 같습니다.\n",
    "    1. 정렬된 리스트 A 와 B를 입력받습니다. \n",
    "    2. 리스트 A에서 처리되지 않은 원소 중 가장 작은 원소를 i가 가리키도록 합니다,\n",
    "    3. 리스트 B에서 처리되지 않은 원소 중 가장 작은 원소를 j가 가리키도록 합니다.\n",
    "    4. A[i], B[j] 중 에서 더 작은 원소를 결과 리스트에 담습니다.\n",
    "    5. 리스트 A와 B 에서 더 이상 처리할 원소가 없을 때까지 2 ~ 4 번까지의 과정을 반복합니다."
   ]
  },
  {
   "cell_type": "code",
   "execution_count": 44,
   "id": "0a506c7f",
   "metadata": {},
   "outputs": [],
   "source": [
    "def union_lst(a,b):\n",
    "    n, m = len(a), len(b)\n",
    "    result = [0] * (n + m)\n",
    "    i, j, k = 0, 0, 0\n",
    "    \n",
    "    while i < n or j < m:\n",
    "        if j == m or (i < n and a[i] < b[j]):\n",
    "            result[k] = a[i]\n",
    "            i += 1\n",
    "            k += 1\n",
    "        elif i==n or (j < m and a[i] >= b[j]):\n",
    "            result[k] = b[j]\n",
    "            j += 1\n",
    "            k += 1\n",
    "            \n",
    "    return result"
   ]
  },
  {
   "cell_type": "code",
   "execution_count": 45,
   "id": "415cd746",
   "metadata": {},
   "outputs": [
    {
     "name": "stdout",
     "output_type": "stream",
     "text": [
      "[1, 2, 3, 4, 5, 6, 8]\n"
     ]
    }
   ],
   "source": [
    "a = [1,3,5]\n",
    "b = [2,4,6,8]\n",
    "\n",
    "print(union_lst(a,b))"
   ]
  },
  {
   "cell_type": "markdown",
   "id": "ec1c66c8",
   "metadata": {
    "scrolled": true
   },
   "source": [
    "### 2-3. '구간 합 계산'\n",
    "- 연속적으로 나열된 N개의 수가 있을 때, 특정 구간의 모든 수를 합한 값을 구하는 문제입니다. \n",
    "- M개의 쿼리에 대해, 매번 구간합을 계산하면 $O(MN)$ 시간 복잡도를 가집니다. \n",
    "- 구간 합계산을 위해 가장 많이 사용되는 기법이 __Prefix Sum (접두사 합)__ 입니다.\n",
    "- 접두사 합이란 리스트의 맨 앞부터 특정 위치까지의 합을 구해 놓은 것을 의미합니다.\n",
    "- Prefix Sum 을 활용시 M개 쿼리에 대한 구간 합의 시간복잡도는 $O(M+N)$ 입니다.\n",
    "- 알고리즘은 다음과 같습니다.\n",
    "    1. N개의 수에 대하여 접두사 합(Prefix)을 계산하여 매열 P에 저장합니다.\n",
    "    2. 매 M개의 쿼리 정보 [L,R] 을 확인할 때, 구간 합은 P[R] - L[L-1] 입니다."
   ]
  },
  {
   "cell_type": "code",
   "execution_count": 49,
   "id": "b3368d9a",
   "metadata": {},
   "outputs": [
    {
     "name": "stdout",
     "output_type": "stream",
     "text": [
      "70\n"
     ]
    }
   ],
   "source": [
    "def prefix_sum(data, left, right):\n",
    "    prefix_sum = [0]\n",
    "    sum_value = 0\n",
    "    \n",
    "    for i in data:\n",
    "        sum_value += i\n",
    "        prefix_sum.append(sum_value)\n",
    "        \n",
    "    return prefix_sum[right] - prefix_sum[left-1]\n",
    "\n",
    "data = [10,20,30,40,50]\n",
    "print(prefix_sum(data,3,4))"
   ]
  },
  {
   "cell_type": "markdown",
   "id": "f706ea91",
   "metadata": {},
   "source": [
    "## 3. 순열과 조합\n",
    "- __순열(Permutation)__ 이란 서로 다른 n개에서 r개를 선택하여 일렬로 나열하는 것을 의미한다.\n",
    "- __조합(Combination)__ 이란 서로 다른 n개에서 순서에 상관없이 서로 다른 r개를 선택하는 것을 의미한다."
   ]
  },
  {
   "cell_type": "code",
   "execution_count": 60,
   "id": "606bf5dc",
   "metadata": {},
   "outputs": [
    {
     "name": "stdout",
     "output_type": "stream",
     "text": [
      "[(1, 2), (2, 1)]\n",
      "(1, 2, 3)\n",
      "(1, 2, 4)\n",
      "(1, 3, 4)\n",
      "(2, 3, 4)\n"
     ]
    }
   ],
   "source": [
    "from itertools import combinations, permutations\n",
    "\n",
    "data = [1,2]\n",
    "per = list(permutations(data,2))\n",
    "print(per)\n",
    "\n",
    "\n",
    "data2 = [1,2,3,4]\n",
    "for x in list(combinations(data2,3)):\n",
    "    print(x)"
   ]
  },
  {
   "cell_type": "markdown",
   "id": "6fcc50b4",
   "metadata": {},
   "source": [
    "## 4. 예시 문제"
   ]
  },
  {
   "cell_type": "markdown",
   "id": "67caf147",
   "metadata": {},
   "source": [
    "### 4-1. 소수 구하기\n",
    "- https://github.com/ndb796/python-for-coding-test 참고\n",
    "- https://www.acmicpc.net/problem/1929\n",
    "- 에라토스테네스의 체"
   ]
  },
  {
   "cell_type": "code",
   "execution_count": 75,
   "id": "277a2962",
   "metadata": {},
   "outputs": [],
   "source": [
    "import math\n",
    "\n",
    "\n",
    "def sieve(n, m):\n",
    "    arr = [True] * (n+1)\n",
    "    arr[0] = False\n",
    "    arr[1] = False\n",
    "    \n",
    "    for i in range(2, int(math.sqrt(n))+1):\n",
    "        if arr[i] == True:\n",
    "            for j in range(i+i, n+1, i):\n",
    "                arr[j] = False\n",
    "       \n",
    "    result = []\n",
    "    for i in range(m, n+1):\n",
    "        if arr[i]:\n",
    "            result.append(i)\n",
    "    return result"
   ]
  },
  {
   "cell_type": "code",
   "execution_count": 76,
   "id": "8f871fe6",
   "metadata": {
    "scrolled": true
   },
   "outputs": [
    {
     "name": "stdout",
     "output_type": "stream",
     "text": [
      "3 16\n",
      "[3, 5, 7, 11, 13]\n"
     ]
    }
   ],
   "source": [
    "m, n = map(int, input().split())\n",
    "print(sieve(n, m))"
   ]
  },
  {
   "cell_type": "markdown",
   "id": "c87e2874",
   "metadata": {},
   "source": [
    "### 4-2. 암호 만들기\n",
    "- https://github.com/ndb796/python-for-coding-test 참고\n",
    "- https://www.acmicpc.net/problem/1759\n",
    "- 조합"
   ]
  },
  {
   "cell_type": "code",
   "execution_count": 90,
   "id": "85478252",
   "metadata": {},
   "outputs": [],
   "source": [
    "from itertools import combinations\n",
    "\n",
    "def get_candid(str_lst, l):\n",
    "    vowels = {'a','i','o','u','e'}\n",
    "    str_lst.sort()\n",
    "    cand_lst = list(combinations(str_lst, 4))\n",
    "    \n",
    "    for cand in cand_lst:\n",
    "        \n",
    "        cnt = 0\n",
    "        for element in cand:\n",
    "            if element in vowels:\n",
    "                cnt += 1\n",
    "        if cnt >= 1 and l-cnt >=2:\n",
    "            print(''.join(cand))\n",
    "    "
   ]
  },
  {
   "cell_type": "code",
   "execution_count": 92,
   "id": "b73417e3",
   "metadata": {},
   "outputs": [
    {
     "name": "stdout",
     "output_type": "stream",
     "text": [
      "4 6\n",
      "a t c i s w\n",
      "acis\n",
      "acit\n",
      "aciw\n",
      "acst\n",
      "acsw\n",
      "actw\n",
      "aist\n",
      "aisw\n",
      "aitw\n",
      "astw\n",
      "cist\n",
      "cisw\n",
      "citw\n",
      "istw\n"
     ]
    }
   ],
   "source": [
    "l, c = map(int, input().split())\n",
    "str_lst = list(map(str, input().split()))\n",
    "get_candid(str_lst, l)"
   ]
  }
 ],
 "metadata": {
  "kernelspec": {
   "display_name": "py38_transformers",
   "language": "python",
   "name": "py38"
  },
  "language_info": {
   "codemirror_mode": {
    "name": "ipython",
    "version": 3
   },
   "file_extension": ".py",
   "mimetype": "text/x-python",
   "name": "python",
   "nbconvert_exporter": "python",
   "pygments_lexer": "ipython3",
   "version": "3.8.12"
  }
 },
 "nbformat": 4,
 "nbformat_minor": 5
}
