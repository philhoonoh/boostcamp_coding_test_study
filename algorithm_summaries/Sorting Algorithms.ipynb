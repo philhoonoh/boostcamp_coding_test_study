{
 "cells": [
  {
   "cell_type": "markdown",
   "id": "969bbfb4",
   "metadata": {},
   "source": [
    "# Sorting Algorithms"
   ]
  },
  {
   "cell_type": "markdown",
   "id": "67798723",
   "metadata": {},
   "source": [
    "## 1. Selection Sort (선택정렬)\n",
    "    - iteration 을 돌때마다 제일 작은 원소를 선택\n",
    "    - 선택한 제일 작은 원소를 해당 iteration의 앞의 배치\n",
    "    - 최선 : O(N^2) \n",
    "    - 평균 : O(N^2)\n",
    "    - 최악 : O(N^2) "
   ]
  },
  {
   "cell_type": "code",
   "execution_count": 5,
   "id": "5795d734",
   "metadata": {},
   "outputs": [
    {
     "name": "stdout",
     "output_type": "stream",
     "text": [
      "0th iteration\n",
      "array : [0, 5, 9, 7, 3, 1, 6, 2, 4, 8]\n",
      "1th iteration\n",
      "array : [0, 1, 9, 7, 3, 5, 6, 2, 4, 8]\n",
      "2th iteration\n",
      "array : [0, 1, 2, 7, 3, 5, 6, 9, 4, 8]\n",
      "3th iteration\n",
      "array : [0, 1, 2, 3, 7, 5, 6, 9, 4, 8]\n",
      "4th iteration\n",
      "array : [0, 1, 2, 3, 4, 5, 6, 9, 7, 8]\n",
      "5th iteration\n",
      "array : [0, 1, 2, 3, 4, 5, 6, 9, 7, 8]\n",
      "6th iteration\n",
      "array : [0, 1, 2, 3, 4, 5, 6, 9, 7, 8]\n",
      "7th iteration\n",
      "array : [0, 1, 2, 3, 4, 5, 6, 7, 9, 8]\n",
      "8th iteration\n",
      "array : [0, 1, 2, 3, 4, 5, 6, 7, 8, 9]\n",
      "9th iteration\n",
      "array : [0, 1, 2, 3, 4, 5, 6, 7, 8, 9]\n",
      "final : [0, 1, 2, 3, 4, 5, 6, 7, 8, 9]\n"
     ]
    }
   ],
   "source": [
    "array = [7, 5, 9, 0, 3, 1, 6, 2, 4, 8]\n",
    "\n",
    "for i in range(len(array)):\n",
    "    min_index = i # 가장 작은 원소의 인덱스\n",
    "    for j in range(i + 1, len(array)):\n",
    "        if array[min_index] > array[j]:\n",
    "            min_index = j\n",
    "    array[i], array[min_index] = array[min_index], array[i] # 스와프\n",
    "    print(f'{i}th iteration')\n",
    "    print(f'array : {array}')\n",
    "\n",
    "print(f'final : {array}')"
   ]
  },
  {
   "cell_type": "markdown",
   "id": "bd09f3dc",
   "metadata": {},
   "source": [
    "## 2. Insertion Sort (삽입정렬)\n",
    "    - i 번째 원소(왼쪽) 까지 정렬되어 있다고 가정하여, i+1번째 원소(오른쪽의 첫번째 원소)를 왼쪽의 맞는 자리에 삽입 \n",
    "    - 선택한 제일 작은 원소를 해당 iteration의 앞의 배치\n",
    "    - 최선 : O(N) - 데이터가 정렬되어 있는 경우 \n",
    "    - 평균 : O(N^2)\n",
    "    - 최악 : O(N^2) "
   ]
  },
  {
   "cell_type": "code",
   "execution_count": 11,
   "id": "93a22d13",
   "metadata": {},
   "outputs": [
    {
     "name": "stdout",
     "output_type": "stream",
     "text": [
      "1th iteration array : [5, 7, 9, 0, 3, 1, 6, 2, 4, 8]\n",
      "left array : [5]\n",
      "2th iteration array : [5, 7, 9, 0, 3, 1, 6, 2, 4, 8]\n",
      "left array : [5, 7]\n",
      "3th iteration array : [0, 5, 7, 9, 3, 1, 6, 2, 4, 8]\n",
      "left array : [0, 5, 7]\n",
      "4th iteration array : [0, 3, 5, 7, 9, 1, 6, 2, 4, 8]\n",
      "left array : [0, 3, 5, 7]\n",
      "5th iteration array : [0, 1, 3, 5, 7, 9, 6, 2, 4, 8]\n",
      "left array : [0, 1, 3, 5, 7]\n",
      "6th iteration array : [0, 1, 3, 5, 6, 7, 9, 2, 4, 8]\n",
      "left array : [0, 1, 3, 5, 6, 7]\n",
      "7th iteration array : [0, 1, 2, 3, 5, 6, 7, 9, 4, 8]\n",
      "left array : [0, 1, 2, 3, 5, 6, 7]\n",
      "8th iteration array : [0, 1, 2, 3, 4, 5, 6, 7, 9, 8]\n",
      "left array : [0, 1, 2, 3, 4, 5, 6, 7]\n",
      "9th iteration array : [0, 1, 2, 3, 4, 5, 6, 7, 8, 9]\n",
      "left array : [0, 1, 2, 3, 4, 5, 6, 7, 8]\n"
     ]
    }
   ],
   "source": [
    "array = [7, 5, 9, 0, 3, 1, 6, 2, 4, 8]\n",
    "\n",
    "for i in range(1, len(array)):\n",
    "    for j in range(i, 0, -1): # 인덱스 i부터 1까지 1씩 감소하며 반복하는 문법\n",
    "        if array[j] < array[j - 1]: # 한 칸씩 왼쪽으로 이동\n",
    "            array[j], array[j - 1] = array[j - 1], array[j]\n",
    "        else: # 자기보다 작은 데이터를 만나면 그 위치에서 멈춤\n",
    "            break\n",
    "    print(f'{i}th iteration array : {array}')\n",
    "    print(f'left array : {array[:i]}')"
   ]
  },
  {
   "cell_type": "markdown",
   "id": "9d1ed670",
   "metadata": {},
   "source": [
    "## 3. Quick Sort (퀵정렬)\n",
    "    - Hoare Partition 방식으로 구현\n",
    "    - 주어진 배열에서 첫번째 원소를 pivot 으로 선택 \n",
    "    - 나머지 배열에서 왼쪽 -> 오른쪽 방향으로 pivot 보다 큰 원소를 선택 이때의 index를 - index1\n",
    "    - 나머지 배열에서 오른쪽 -> 왼쪽 방향을 pivot 보다 작은 원소를 선택 이때의 index를 - index2\n",
    "    - 위의 index1 < index2 이면 두개의 위치를 변경\n",
    "    - 만약 index1 > index2 그렇지 않으면 pivot 과 index1의 값을 변경 \n",
    "    - 그 결과 pivot을 기준으로 왼쪽은 pivot 보다 작은 값들 오른쪽은 pivot 보다 큰 값들\n",
    "    - 위 방법을 재귀적으로 실행 \n",
    "    - 최선 : O(NlogN) \n",
    "    - 평균 : O(NlogN)\n",
    "    - 최악 : O(N^2) - 데이터가 정렬되어 있는 경우 - 삽입 정렬과 반대"
   ]
  },
  {
   "cell_type": "code",
   "execution_count": 17,
   "id": "4ce1f228",
   "metadata": {},
   "outputs": [
    {
     "name": "stdout",
     "output_type": "stream",
     "text": [
      "array : [5, 7, 9, 0, 3, 1, 6, 2, 4, 8] -> left_side : [0, 3, 1, 2, 4], right_side : [7, 9, 6, 8]\n",
      "array : [0, 3, 1, 2, 4] -> left_side : [], right_side : [3, 1, 2, 4]\n",
      "array : [3, 1, 2, 4] -> left_side : [1, 2], right_side : [4]\n",
      "array : [1, 2] -> left_side : [], right_side : [2]\n",
      "array : [7, 9, 6, 8] -> left_side : [6], right_side : [9, 8]\n",
      "array : [9, 8] -> left_side : [8], right_side : []\n",
      "[0, 1, 2, 3, 4, 5, 6, 7, 8, 9]\n"
     ]
    }
   ],
   "source": [
    "array = [5, 7, 9, 0, 3, 1, 6, 2, 4, 8]\n",
    "\n",
    "def quick_sort(array):\n",
    "    # 리스트가 하나 이하의 원소만을 담고 있다면 종료\n",
    "    if len(array) <= 1:\n",
    "        return array\n",
    "\n",
    "    pivot = array[0] # 피벗은 첫 번째 원소\n",
    "    tail = array[1:] # 피벗을 제외한 리스트\n",
    "\n",
    "    left_side = [x for x in tail if x <= pivot] # 분할된 왼쪽 부분\n",
    "    right_side = [x for x in tail if x > pivot] # 분할된 오른쪽 부분\n",
    "    print(f'array : {array} -> left_side : {left_side}, right_side : {right_side}')\n",
    "    # 분할 이후 왼쪽 부분과 오른쪽 부분에서 각각 정렬을 수행하고, 전체 리스트를 반환\n",
    "    return quick_sort(left_side) + [pivot] + quick_sort(right_side)\n",
    "\n",
    "print(quick_sort(array))"
   ]
  },
  {
   "cell_type": "markdown",
   "id": "4a61396c",
   "metadata": {},
   "source": [
    "## 4. Count Sort (계수 정렬)\n",
    "    - 특정 조건하에서 매우 빠른 알고리즘\n",
    "    - 특정 조건 : 데이터의 크기 범위가 제한되어 정수형태로 표현할 수 있을때 -> 성적\n",
    "    - 데이터의 크기 범위를 담을 수 있는 배열 선언 \n",
    "    - 데이터의 갯수 N, 최대값 K\n",
    "    - 배열을 순회(0 ~ K) 하며 데이터 각 인덱스(점수)에 해당하는 값 증가\n",
    "    - 최선 : O(N + K) \n",
    "    - 평균 : O(N + K) \n",
    "    - 최악 : O(N + K)  "
   ]
  },
  {
   "cell_type": "code",
   "execution_count": 20,
   "id": "234ba210",
   "metadata": {},
   "outputs": [
    {
     "name": "stdout",
     "output_type": "stream",
     "text": [
      "0 0 1 1 2 2 3 4 5 5 6 7 8 9 9 "
     ]
    }
   ],
   "source": [
    "# 모든 원소의 값이 0보다 크거나 같다고 가정\n",
    "array = [7, 5, 9, 0, 3, 1, 6, 2, 9, 1, 4, 8, 0, 5, 2]\n",
    "# 모든 범위를 포함하는 리스트 선언 (모든 값은 0으로 초기화)\n",
    "count = [0] * (max(array) + 1)\n",
    "\n",
    "for i in range(len(array)):\n",
    "    count[array[i]] += 1 # 각 데이터에 해당하는 인덱스의 값 증가\n",
    "\n",
    "for i in range(len(count)): # 리스트에 기록된 정렬 정보 확인\n",
    "    for j in range(count[i]):\n",
    "        print(i, end=' ') # 띄어쓰기를 구분으로 등장한 횟수만큼 인덱스 출력\n"
   ]
  },
  {
   "cell_type": "markdown",
   "id": "a7004193",
   "metadata": {},
   "source": [
    "# 번외"
   ]
  },
  {
   "cell_type": "markdown",
   "id": "9defd2f1",
   "metadata": {},
   "source": [
    "## 5. Merge Sort (병합 정렬)\n",
    "    - 작은 단위로부터 병합을 하며 정렬한는 방법 \n",
    "    - quick sort 는 pivot 을 기준으로 쪼개가며 정렬하는 반면, 이는 그 반대\n",
    "    - 최선 : O(NlogN) \n",
    "    - 평균 : O(NlogN) \n",
    "    - 최악 : O(NlogN)  "
   ]
  },
  {
   "cell_type": "code",
   "execution_count": 27,
   "id": "6517980c",
   "metadata": {},
   "outputs": [
    {
     "name": "stdout",
     "output_type": "stream",
     "text": [
      "low_arr : [5], high_arr : [7] -> merged_arr : [5, 7]\n",
      "low_arr : [0], high_arr : [3] -> merged_arr : [0, 3]\n",
      "low_arr : [9], high_arr : [0, 3] -> merged_arr : [0, 3, 9]\n",
      "low_arr : [5, 7], high_arr : [0, 3, 9] -> merged_arr : [0, 3, 5, 7, 9]\n",
      "low_arr : [1], high_arr : [6] -> merged_arr : [1, 6]\n",
      "low_arr : [4], high_arr : [8] -> merged_arr : [4, 8]\n",
      "low_arr : [2], high_arr : [4, 8] -> merged_arr : [2, 4, 8]\n",
      "low_arr : [1, 6], high_arr : [2, 4, 8] -> merged_arr : [1, 2, 4, 6, 8]\n",
      "low_arr : [0, 3, 5, 7, 9], high_arr : [1, 2, 4, 6, 8] -> merged_arr : [0, 1, 2, 3, 4, 5, 6, 7, 8, 9]\n"
     ]
    },
    {
     "data": {
      "text/plain": [
       "[0, 1, 2, 3, 4, 5, 6, 7, 8, 9]"
      ]
     },
     "execution_count": 27,
     "metadata": {},
     "output_type": "execute_result"
    }
   ],
   "source": [
    "def merge_sort(arr):\n",
    "    if len(arr) < 2:\n",
    "        \n",
    "        return arr\n",
    "\n",
    "    mid = len(arr) // 2\n",
    "    low_arr = merge_sort(arr[:mid])\n",
    "    high_arr = merge_sort(arr[mid:])\n",
    "\n",
    "    merged_arr = []\n",
    "    l = h = 0\n",
    "    while l < len(low_arr) and h < len(high_arr):\n",
    "        if low_arr[l] < high_arr[h]:\n",
    "            merged_arr.append(low_arr[l])\n",
    "            l += 1\n",
    "        else:\n",
    "            merged_arr.append(high_arr[h])\n",
    "            h += 1\n",
    "    merged_arr += low_arr[l:]\n",
    "    merged_arr += high_arr[h:]\n",
    "    print(f'low_arr : {low_arr}, high_arr : {high_arr} -> merged_arr : {merged_arr}')\n",
    "    return merged_arr\n",
    "\n",
    "array = [5, 7, 9, 0, 3, 1, 6, 2, 4, 8]\n",
    "merge_sort(array)"
   ]
  },
  {
   "cell_type": "markdown",
   "id": "a589cb93",
   "metadata": {},
   "source": [
    "## 6. Heap Sort (힙 정렬)\n",
    "    - Heap Structure 을 이용한 정렬 \n",
    "    - Heap 넣을때의 연산 logN, 뺄때의 연산 logN 이므로 매우 안정적이다. \n",
    "    - 최선 : O(NlogN) \n",
    "    - 평균 : O(NlogN) \n",
    "    - 최악 : O(NlogN) "
   ]
  },
  {
   "cell_type": "code",
   "execution_count": 32,
   "id": "7f200ce3",
   "metadata": {},
   "outputs": [
    {
     "name": "stdout",
     "output_type": "stream",
     "text": [
      "[0, 1, 2, 3, 4, 5, 6, 7, 8, 9]\n"
     ]
    }
   ],
   "source": [
    "import heapq\n",
    "\n",
    "array = [5, 7, 9, 0, 3, 1, 6, 2, 4, 8]\n",
    "heapq.heapify(array)\n",
    "sort_array = []\n",
    "while array:\n",
    "    sort_array.append(heapq.heappop(array))\n",
    "print(sort_array)"
   ]
  },
  {
   "cell_type": "markdown",
   "id": "688cff6f",
   "metadata": {},
   "source": [
    "## 7 Bubble Sort (버블 정렬)\n",
    "    - iteration 인접한 값들을 비교하며 가장큰 원소를 가장 뒤에 배치\n",
    "    - 최선 : O(N^2) \n",
    "    - 평균 : O(N^2)\n",
    "    - 최악 : O(N^2) "
   ]
  },
  {
   "cell_type": "code",
   "execution_count": 33,
   "id": "14e5ffb2",
   "metadata": {},
   "outputs": [
    {
     "name": "stdout",
     "output_type": "stream",
     "text": [
      "[0, 1, 2, 3, 4, 5, 6, 7, 8, 9]\n"
     ]
    }
   ],
   "source": [
    "def bubbleSort(x):\n",
    "    length = len(x)-1\n",
    "    for i in range(length):\n",
    "        for j in range(length-i):\n",
    "            if x[j] > x[j+1]:\n",
    "                x[j], x[j+1] = x[j+1], x[j]\n",
    "    return x\n",
    "array = [5, 7, 9, 0, 3, 1, 6, 2, 4, 8]\n",
    "print(bubbleSort(array))"
   ]
  },
  {
   "cell_type": "markdown",
   "id": "8058810e",
   "metadata": {},
   "source": [
    "## 8. Python Sort (Tim Sort)\n",
    "    - quick sort 와 merge sort 의 혼합"
   ]
  },
  {
   "cell_type": "markdown",
   "id": "4e5e92d3",
   "metadata": {},
   "source": [
    "## 정리\n",
    "\n",
    "- O(n2) 정렬 알고리즘 : 버블정렬, 선택정렬, 삽입정렬 (퀵 정렬과 달리 정렬된 상태에서 O(n))\n",
    "- O(nlogn) 정렬 알고리즘 : 퀵정렬(삽입정렬과 달리 정렬된 상태에서 O(n2)), 병합정렬, 힙정렬\n",
    "- O(n+k) 정렬 알고리즘 : 계수정렬 (특정 조건하에서만 작동)\n",
    "- Python 에서 사용하는 정렬 : Tim Sort (퀵 정렬과 병합 정렬의 혼합)"
   ]
  }
 ],
 "metadata": {
  "kernelspec": {
   "display_name": "py38_transformers",
   "language": "python",
   "name": "py38"
  },
  "language_info": {
   "codemirror_mode": {
    "name": "ipython",
    "version": 3
   },
   "file_extension": ".py",
   "mimetype": "text/x-python",
   "name": "python",
   "nbconvert_exporter": "python",
   "pygments_lexer": "ipython3",
   "version": "3.8.12"
  }
 },
 "nbformat": 4,
 "nbformat_minor": 5
}