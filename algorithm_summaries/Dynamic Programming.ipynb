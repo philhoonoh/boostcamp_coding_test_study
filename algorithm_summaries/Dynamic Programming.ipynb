{
 "cells": [
  {
   "cell_type": "markdown",
   "id": "969bbfb4",
   "metadata": {},
   "source": [
    "# Dynamic Programming (동적 계획법)"
   ]
  },
  {
   "cell_type": "markdown",
   "id": "9f81a897",
   "metadata": {},
   "source": [
    "# Objective\n",
    "1. Dynamic Programming 특징, 정의, 방식, 유의사항\n",
    "2. Dynamic Programming 구현 방법 \n",
    "3. Dynamic Programming 예시 문제"
   ]
  },
  {
   "cell_type": "markdown",
   "id": "87a439a8",
   "metadata": {},
   "source": [
    "## 1. Dynamic Programming 특징, 정의, 방식, 유의사항"
   ]
  },
  {
   "cell_type": "markdown",
   "id": "0154129d",
   "metadata": {},
   "source": [
    "### 1-1. Dynamic Programming 문제 특징\n",
    "- __최적 부분 구조 (Optimal Substructure)__\n",
    "    - 큰 문제를 작은 문제로 나눌 수 있으며 작은 문제의 답을 모아서 큰 문제를 해결 할 수 있습니다.\n",
    "- __중복되는 부분 문제 (Overlapping Subproblem)__\n",
    "    - 동일한 작은 문제를 반복적으로 해결해야 합니다. \n",
    "  \n",
    " \n",
    "### 1-2. Dynamic Programming 정의\n",
    "- Dynamic Programming 이란 위와 같은 특징을 가지는 문제를 __메모리를 적절히 사용하여 수행시간 효율성을 비약적으로 향상시키는 방법__입니다. \n",
    "- 이때 메모리를 적절하게 사용한다는 의미는 __이미 계산된 결과(작은 문제)를 별도의 메모리 영역에 저장__ 하여 다시 계산하지 않는다는 의미입니다. \n",
    "- 자료구조에서의 동적 할당(Dynamic Allocation)과는 다른 의미입니다. 동적 할당은 '프로그램이 실행되는 도중에 실행에 필요한 메모리를 할당하는 기법'을 의미합니다.\n",
    "\n",
    "### 1-3. Dynamic Programming 방식\n",
    "- Top Down (하향식)\n",
    "    - 재귀 함수 사용 \n",
    "    - memoization (caching) 기법을 사용\n",
    "    - memoization 은 Dynamic Programming 국한된 표현이 아닙니다. memoization이란 이전에 계산된 결과를 일시적으로 기록(캐싱)해 놓는 넓은 개념을 의미합니다. \n",
    "- Bottom up (상향식)\n",
    "    - 반복문 사용\n",
    "    - dp table 사용\n",
    "\n",
    "### 1-4. Dynamic Programming 유의 사항\n",
    "- __분할 정복(Divide and Conquer__)과의 차이점은 다이나믹 프로그래밍의 경우 중복되는 부분 문제가 존재한다는 것입니다. 예) 퀵 정렬에서 한번 처리한 pivot은 다시 처리하지 않습니다.\n",
    "- __Bottom up (상향식)으로 구현하는 것을 권장__ 합니다. 첫째로, 1) 함수를 호출했을 때 메모리 상에 적재되는 과정이 발생하므로 오버헤드가 발생합니다. 둘째로, 2) 시스템상 재귀 함수의 스택 크기가 한정되어 있는 경우 오류가 발생합니다. Python에서는 recursion depth 오류가 발생합니다. 다만 `setrecursionlimit()` 함수를 호출하여 제한을 완화할 수는 있습니다.\n"
   ]
  },
  {
   "cell_type": "markdown",
   "id": "11e76440",
   "metadata": {},
   "source": [
    "## 2. Dynamic Programming 구현 방법"
   ]
  },
  {
   "cell_type": "markdown",
   "id": "2591188f",
   "metadata": {},
   "source": [
    "### 2-1. fibonacci \n",
    "- $a_n = a_{n-1} + a_{n-2}$, $a_1 = 1$, $a_2 = 1$  \n",
    "- 시간복잡도는 일반적으로 $O(2^n)$ 입니다. \n",
    "    - 트리의 깊이로 생각하면 편합니다. 부모노드 f(6) -> f(5) -> f(4) -> f(3) -> 말단노드 f(2), f(1) 로 순차적으로 계산해야 되야 합니다. \n",
    "    - 즉 완전 이진 트리라고 일반적으로 가정을 하고 각 level에서의 연산량을 합하면  $2^0 + 2^1 + ... + 2^5 = 31 = 2^{n -1} \\approx 2^n$ 입니다.\n",
    "- DP를 사용하지 않고 재귀함수로 구현시 $ f(100) \\approx O(2^{100}) \\approx 1000^{10}$ 이 걸립니다. "
   ]
  },
  {
   "cell_type": "code",
   "execution_count": 1,
   "id": "983a8570",
   "metadata": {},
   "outputs": [],
   "source": [
    "def fibo(x):\n",
    "    if x == 1 or x == 2:\n",
    "        return 1\n",
    "    return fibo(x-1) + fibo(x-2)"
   ]
  },
  {
   "cell_type": "code",
   "execution_count": 2,
   "id": "753b77f1",
   "metadata": {},
   "outputs": [
    {
     "name": "stdout",
     "output_type": "stream",
     "text": [
      "832040\n",
      "CPU times: user 195 ms, sys: 4.41 ms, total: 199 ms\n",
      "Wall time: 212 ms\n"
     ]
    }
   ],
   "source": [
    "%time print(fibo(30))"
   ]
  },
  {
   "cell_type": "markdown",
   "id": "29276226",
   "metadata": {},
   "source": [
    "### 2-2. fibonacci with memoization \n",
    "- $a_n = a_{n-1} + a_{n-2}$, $a_1 = 1$, $a_2 = 1$\n",
    "- __Top-Down (하향식)__\n",
    "- 시간복잡도는 일반적으로 O($N$) 입니다. \n",
    "    - 트리의 깊이로 생각하면 편합니다. 부모노드 f(6) -> f(5) -> f(4) -> f(3) -> 말단노드 f(2), f(1) 로 순차적으로 계산해야 되야 합니다. \n",
    "    - __memoization__ 을 활용하면 완전 이진 트리라고 일반적으로 가정하지만 각 level 에서 연산을 1번만 수행하면 됩니다. \n",
    "    - 즉 f(6) -> f(5) -> f(4) -> f(3) -> f(1), f(2) 가 호출 됩니다. \n",
    "    - 즉 memoization을 활용하여 DP로 구현시 $O(N)$ 이 걸립니다. \n",
    "- 빠르게 계산하지만, 함수 호출시 메모리 상에 적재되는 과정이 있으므로 오베해드가 발생합니다. "
   ]
  },
  {
   "cell_type": "code",
   "execution_count": 3,
   "id": "0effe2d3",
   "metadata": {},
   "outputs": [],
   "source": [
    "d = [0] * 100\n",
    "\n",
    "def fibo_memo(x):\n",
    "    if x == 1 or x == 2:\n",
    "        return 1\n",
    "    if d[x] != 0:\n",
    "        return d[x]\n",
    "    d[x] = fibo(x-1) + fibo(x-2)\n",
    "    \n",
    "    return d[x]"
   ]
  },
  {
   "cell_type": "code",
   "execution_count": 4,
   "id": "2044017b",
   "metadata": {},
   "outputs": [
    {
     "name": "stdout",
     "output_type": "stream",
     "text": [
      "832040\n",
      "CPU times: user 199 ms, sys: 4.7 ms, total: 203 ms\n",
      "Wall time: 216 ms\n"
     ]
    }
   ],
   "source": [
    "%time print(fibo_memo(30))"
   ]
  },
  {
   "cell_type": "markdown",
   "id": "cef5b2fc",
   "metadata": {},
   "source": [
    "### 2-3. fibonacci with dp table\n",
    "- $a_n = a_{n-1} + a_{n-2}$, $a_1 = 1$, $a_2 = 1$\n",
    "- __Bottom-Up (상향식)__\n",
    "- __dp table__ 을 활용합니다. \n",
    "- 시간복잡도는 O($N$) 입니다.\n",
    "    - f(1) -> f(2) -> f(3) -> f(4) -> f(5) -> f(6) 순으로 계산이 이루어집니다."
   ]
  },
  {
   "cell_type": "code",
   "execution_count": 5,
   "id": "44718cdb",
   "metadata": {},
   "outputs": [],
   "source": [
    "def fibo_dp(n):\n",
    "    d = [0] * (n+1)\n",
    "    d[1] = 1\n",
    "    d[2] = 1\n",
    "\n",
    "    for i in range(3, n+1):\n",
    "        d[i] = d[i-1] + d[i-2]\n",
    "    \n",
    "    return d[n]"
   ]
  },
  {
   "cell_type": "code",
   "execution_count": 6,
   "id": "e6c808a2",
   "metadata": {},
   "outputs": [
    {
     "name": "stdout",
     "output_type": "stream",
     "text": [
      "832040\n",
      "CPU times: user 500 µs, sys: 392 µs, total: 892 µs\n",
      "Wall time: 2.33 ms\n"
     ]
    }
   ],
   "source": [
    "%time print(fibo_dp(30))"
   ]
  },
  {
   "cell_type": "markdown",
   "id": "1f22501f",
   "metadata": {},
   "source": [
    "## 3. Dynamic Programming 예시 문제"
   ]
  },
  {
   "cell_type": "markdown",
   "id": "67caf147",
   "metadata": {},
   "source": [
    "### 3-1. 1로 만들기\n",
    "- https://github.com/ndb796/python-for-coding-test 참고\n",
    "- $ a_i = min(a_{n-1}, a_{n/2}, a_{n/3}, a_{n/5}) + 1 $"
   ]
  },
  {
   "cell_type": "code",
   "execution_count": 7,
   "id": "3970cbe1",
   "metadata": {},
   "outputs": [
    {
     "name": "stdout",
     "output_type": "stream",
     "text": [
      "26\n",
      "3\n"
     ]
    }
   ],
   "source": [
    "x = int(input())\n",
    "\n",
    "d = [0] * 300001\n",
    "\n",
    "for i in range(2, x + 1):\n",
    "    # 1 을 빼는 경우\n",
    "    d[i] = d[i-1] + 1\n",
    "    \n",
    "    # 2로 나누어 떨어지는 경우\n",
    "    if i % 2 == 0:\n",
    "        d[i] = min(d[i], d[i//2] + 1)\n",
    "        \n",
    "    # 3로 나누어 떨어지는 경우\n",
    "    if i % 3 == 0:\n",
    "        d[i] = min(d[i], d[i//3] + 1)\n",
    "        \n",
    "    # 5로 나누어 떨어지는 경우\n",
    "    if i % 5 == 0:\n",
    "        d[i] = min(d[i], d[i//5] + 1)\n",
    "\n",
    "print(d[x])"
   ]
  },
  {
   "cell_type": "markdown",
   "id": "4e1fbd9e",
   "metadata": {},
   "source": [
    "### 3-2. 개미 전사 \n",
    "- https://github.com/ndb796/python-for-coding-test 참고\n",
    "- $ a_i = max(a_{i-1}, a_{i-2} + k_i) $"
   ]
  },
  {
   "cell_type": "code",
   "execution_count": 8,
   "id": "947f2867",
   "metadata": {},
   "outputs": [
    {
     "name": "stdout",
     "output_type": "stream",
     "text": [
      "4\n",
      "1 3 1 5\n",
      "8\n"
     ]
    }
   ],
   "source": [
    "import sys\n",
    "\n",
    "n = int(input())\n",
    "arr = list(map(int, input().split(' ')))\n",
    "\n",
    "def ant_soldier(arr, n):\n",
    "    if len(arr) == 2:\n",
    "        return max(arr)\n",
    "    \n",
    "    for i in range(2, n):\n",
    "        arr[i] = max(arr[i-1], arr[i-2] + arr[i])\n",
    "        \n",
    "    return arr[n-1]\n",
    "\n",
    "print(ant_soldier(arr, n))"
   ]
  },
  {
   "cell_type": "markdown",
   "id": "bbaa7038",
   "metadata": {},
   "source": [
    "### 3-3. 바닥 공사\n",
    "- https://github.com/nd₩b796/python-for-coding-test 참고\n",
    "- $ a_i = a_{i-1} + 2 * a_{i-2} ,  a_1 = 1, a_2 = 3$"
   ]
  },
  {
   "cell_type": "code",
   "execution_count": 9,
   "id": "db4ee821",
   "metadata": {},
   "outputs": [
    {
     "name": "stdout",
     "output_type": "stream",
     "text": [
      "3\n",
      "5\n"
     ]
    }
   ],
   "source": [
    "n = int(input())\n",
    "\n",
    "def floor_work(n):\n",
    "    dp = [0] * (n + 1)\n",
    "    dp[1] = 1\n",
    "    dp[2] = 3\n",
    "\n",
    "    for i in range(3, n + 1):\n",
    "        dp[i] = dp[i-1] + 2 * dp[i-2]\n",
    "\n",
    "    return dp[n] % 796796\n",
    "\n",
    "print(floor_work(n))"
   ]
  },
  {
   "cell_type": "markdown",
   "id": "3453d150",
   "metadata": {},
   "source": [
    "### 3-4. 효율적인 화폐 구성 \n",
    "- https://github.com/nd₩b796/python-for-coding-test 참고\n",
    "- 금액 : $ i $, 화폐단위 : $ k $\n",
    "- 금액 i 를 만들 수 있는 최소 화페 개수 : $ a_i $\n",
    "- 금액 i-k 를 만들 수 있는 최소 화폐 개수 : $ a_{i-k} $\n",
    "\n",
    "\n",
    "- $ a_{i-k} $ 가 존재 하는 경우, $ a_i = min(a_i, a_{i-k} + 1) $\n",
    "- $ a_{i-k} $ 가 존재 하지 않는 경우, $ a_i = 100001 $ \n",
    "- 문제에서 최대 가치의 합이 10000 이므로 초기값을 10001 로 주어 불가능한 수로 설정\n",
    "\n",
    " "
   ]
  },
  {
   "cell_type": "code",
   "execution_count": 10,
   "id": "b05c0305",
   "metadata": {},
   "outputs": [
    {
     "name": "stdout",
     "output_type": "stream",
     "text": [
      "3 4\n",
      "3\n",
      "5\n",
      "7\n",
      "-1\n"
     ]
    }
   ],
   "source": [
    "n, m = map(int, input().split(' '))\n",
    "\n",
    "money = [int(input()) for _ in range(n)]\n",
    "\n",
    "def get_money(money, m):\n",
    "    dp = [10001] * (m + 1)\n",
    "    dp[0] = 0\n",
    "    \n",
    "    for unit in money:\n",
    "        for index in range(unit, m + 1):\n",
    "            dp[index] = min(dp[index], dp[index - unit] + 1)\n",
    "\n",
    "    if dp[m] != 10001:\n",
    "        return dp[m]\n",
    "    else:\n",
    "        return -1\n",
    "\n",
    "\n",
    "print(get_money(money, m))"
   ]
  }
 ],
 "metadata": {
  "kernelspec": {
   "display_name": "py38_transformers",
   "language": "python",
   "name": "py38"
  },
  "language_info": {
   "codemirror_mode": {
    "name": "ipython",
    "version": 3
   },
   "file_extension": ".py",
   "mimetype": "text/x-python",
   "name": "python",
   "nbconvert_exporter": "python",
   "pygments_lexer": "ipython3",
   "version": "3.8.12"
  }
 },
 "nbformat": 4,
 "nbformat_minor": 5
}
