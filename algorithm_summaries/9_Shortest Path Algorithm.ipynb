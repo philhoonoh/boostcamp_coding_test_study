{
 "cells": [
  {
   "cell_type": "markdown",
   "id": "969bbfb4",
   "metadata": {},
   "source": [
    "# Shortest Path Algorithm (최단경로 알고리즘)"
   ]
  },
  {
   "cell_type": "markdown",
   "id": "9f81a897",
   "metadata": {},
   "source": [
    "# Objective\n",
    "1. 최단경로 알고리즘 정의 및 특징\n",
    "2. Dijkstra Algorithm\n",
    "3. Floyd-Warshall Algoritm\n",
    "3. 최단경로 알고리즘 예시 문제"
   ]
  },
  {
   "cell_type": "markdown",
   "id": "87a439a8",
   "metadata": {},
   "source": [
    "## 1. 최단경로 알고리즘"
   ]
  },
  {
   "cell_type": "markdown",
   "id": "0154129d",
   "metadata": {},
   "source": [
    "### 1-1. 최단경로 알고리즘 정의  \n",
    "- 최단 경로 알고리즘은 __가장 짧은 경로를 찾는 알고리즘__ 을 의미합니다.\n",
    "- 각 지점은 그래프에서 노드로 표현\n",
    "- 지점 간 연결된 도로는 그래프에서 간선으로 표현 \n",
    "  \n",
    "### 1-2. 최단경로 알고리즘 종류 \n",
    "- Dijkstra Algorithm\n",
    "- Floyd-Warshall Algorithm\n",
    "- Bellman-Ford Algorithm\n",
    "\n",
    "### 1-3. 최단경로 알고리즘 문제상황\n",
    "- 한 지점에서 한 지점까지의 최단 경로\n",
    "    - Dijkstra, Bellman-Ford (음의 간선이 있을 경우)  \n",
    "- 한 지점에서 다른 모든 지점까지의 최단 경로 \n",
    "    - Dijkstra, Bellman-Ford (음의 간선이 있을 경우) \n",
    "- 모든 지점에서 다른 모든 지점까지의 치단 경로 \n",
    "    - Floyd-Warshall"
   ]
  },
  {
   "cell_type": "markdown",
   "id": "11e76440",
   "metadata": {},
   "source": [
    "## 2. Dijkstra Algorithm \n",
    "- __특정한 노드__ 에서 다른 노드로 가는 각각의 최단 경로를 계산\n",
    "- __'음의 간선'__ 이 없을때 동작, 있을 경우 __Bellman-Ford__ 사용\n",
    "- 매 상황에서 가장 비용이 적은 노드를 선택한다는 점에서 __그리기 알고리즘__ 으로 분류"
   ]
  },
  {
   "cell_type": "markdown",
   "id": "2591188f",
   "metadata": {},
   "source": [
    "### 2-1. Dijkstra Algorithm 의 동작 \n",
    "1. 출발 노드를 설정\n",
    "2. 최단 거리 테이블 초기화\n",
    "3. 방문하지 않은 노드 중에서 최단 거리가 가장 짧은 노드를 선택\n",
    "4. 해당 노드를 거쳐 다른 노드를 가는 비용을 계산하여 테이블을 갱신\n",
    "5. 3~4 반복 "
   ]
  },
  {
   "cell_type": "markdown",
   "id": "8489a746",
   "metadata": {},
   "source": [
    "### 2-2. Dijkstra Algorithm 구현 (Naive Version)\n",
    "- $O(V^{2})$ 노드의 개수가 5000개 이하라면 가능\n",
    "- 최단거리가 가장 짧은 노드를 선형탐색(V), 그 노드랑 연결된 노들들(V)을 확인."
   ]
  },
  {
   "cell_type": "code",
   "execution_count": 12,
   "id": "3c81e38b",
   "metadata": {},
   "outputs": [
    {
     "name": "stdout",
     "output_type": "stream",
     "text": [
      "6 11\n",
      "1\n",
      "1 2 2\n",
      "1 3 5\n",
      "1 4 1\n",
      "2 3 3\n",
      "2 4 2\n",
      "3 2 3\n",
      "3 6 5\n",
      "4 3 3\n",
      "4 5 1\n",
      "5 3 1\n",
      "5 6 2\n",
      "start_node & [end_node,cost]: 0 -> []\n",
      "start_node & [end_node,cost]: 1 -> [[2, 2], [3, 5], [4, 1]]\n",
      "start_node & [end_node,cost]: 2 -> [[3, 3], [4, 2]]\n",
      "start_node & [end_node,cost]: 3 -> [[2, 3], [6, 5]]\n",
      "start_node & [end_node,cost]: 4 -> [[3, 3], [5, 1]]\n",
      "start_node & [end_node,cost]: 5 -> [[3, 1], [6, 2]]\n",
      "start_node & [end_node,cost]: 6 -> []\n"
     ]
    }
   ],
   "source": [
    "# input\n",
    "\n",
    "# 노드와 간선 갯수 \n",
    "node, edge = map(int, input().split(' '))\n",
    "\n",
    "# 시작점\n",
    "start = int(input())\n",
    "\n",
    "# 그래프 - adjacent list 형식 \n",
    "adj_lst = [[] for _ in range(node+1)]\n",
    "\n",
    "# 그래프 초기화 \n",
    "for _ in range(0, edge):\n",
    "    start_, end, cost = map(int, input().split(' '))\n",
    "    adj_lst[start_].append([end, cost])\n",
    "\n",
    "# 그래프 확인\n",
    "for start_node, row in enumerate(adj_lst):\n",
    "    print(f'start_node & [end_node,cost]: {start_node} -> {row}')"
   ]
  },
  {
   "cell_type": "code",
   "execution_count": 33,
   "id": "2672c22b",
   "metadata": {},
   "outputs": [],
   "source": [
    "def get_smallest_node(node, distance, visited):\n",
    "    min_value = INF\n",
    "    index = 0\n",
    "    for i in range(1, node+1):\n",
    "        if distance[i] < min_value and not visited[i]:\n",
    "            min_value = distance[i]\n",
    "            index = i \n",
    "    return index\n",
    "\n",
    "def dijkstra_1(node, start, adj_lst):\n",
    "    INF = int(1e9)\n",
    "    \n",
    "    visited = [False] * (node + 1)\n",
    "    distance = [INF] * (node + 1)\n",
    "    \n",
    "    # 시작 노드 초기화\n",
    "    distance[start] = 0\n",
    "    visited[start] = True\n",
    "    for j in adj_lst[start]:\n",
    "        distance[j[0]] = j[1]\n",
    "    \n",
    "    # 시작노드를 제외한 나머지 node-1 개에 대해 탐색 -> 5개 -> 0번은 자연스레 제외됨\n",
    "    for i in range(node-1):\n",
    "        cur_node = get_smallest_node(node, distance, visited)\n",
    "        visited[cur_node] = True\n",
    "        for j in adj_lst[cur_node]:\n",
    "            cost = distance[cur_node] + j[1]\n",
    "            if cost < distance[j[0]]:\n",
    "                distance[j[0]] = cost \n",
    "    \n",
    "    return distance"
   ]
  },
  {
   "cell_type": "code",
   "execution_count": 34,
   "id": "c1f27e5d",
   "metadata": {},
   "outputs": [
    {
     "name": "stdout",
     "output_type": "stream",
     "text": [
      "[1000000000, 0, 2, 3, 1, 2, 4]\n",
      "CPU times: user 264 µs, sys: 122 µs, total: 386 µs\n",
      "Wall time: 345 µs\n"
     ]
    }
   ],
   "source": [
    "%%time\n",
    "result = dijkstra_1(node, start, adj_lst)\n",
    "print(result)"
   ]
  },
  {
   "cell_type": "markdown",
   "id": "5be3934d",
   "metadata": {},
   "source": [
    "### 2-3. Dijkstra Algorithm 구현 (Heap Version)\n",
    "- Heap 자료구조를 활용한 Priority Queue 구현\n",
    "- Heap 자료구조 설명 링크 참조\n",
    "    - [Lecture22](https://github.com/prokokok/algorithm_re/blob/main/0_DataStructureAlgorithms_re/22_lecture.md)\n",
    "    - [Lecture23](https://github.com/prokokok/algorithm_re/blob/main/0_DataStructureAlgorithms_re/23_lecture.md)\n",
    "- Heap을 통한 $O(log{V})$ 탐색 : Heap 에 넣고 빼고 의 연산 vs $O(V)$ 탐색: 최단거리가 가장 짧은 노드를 선형탐색(V) \n",
    "- $O(Elog{V})$\n",
    "    - 우선순위 큐에서 꺼낸 노드 $O(log{V})$ 와 해당 연결된 다른 간선들의 거리를 확인 하는 횟수 -> 이때 연결될 수 있는 최대 간선의 개수는 $E$이므로 ->  $O(Elog{V})$ 라 해석 가능\n",
    "    - E개의 간선을 우선순위 큐에 넣었다가 모두 빼내는 연산과정과 유사 -> $O(Elog{E})$ -> 여기서 $E<V^2$ 이므로 -> $O(Elog{V^2})$ -> $O(Elog{V})$ 라고도 직관적으로 해석 가능"
   ]
  },
  {
   "cell_type": "code",
   "execution_count": null,
   "id": "b22f85e4",
   "metadata": {},
   "outputs": [],
   "source": [
    "# input\n",
    "\n",
    "# 노드와 간선 갯수 \n",
    "node, edge = map(int, input().split(' '))\n",
    "\n",
    "# 시작점\n",
    "start = int(input())\n",
    "\n",
    "# 그래프 - adjacent list 형식 \n",
    "adj_lst = [[] for _ in range(node+1)]\n",
    "\n",
    "# 그래프 초기화 \n",
    "for _ in range(0, edge):\n",
    "    start_, end, cost = map(int, input().split(' '))\n",
    "    adj_lst[start_].append([end, cost])\n",
    "\n",
    "# 그래프 확인\n",
    "for start_node, row in enumerate(adj_lst):\n",
    "    print(f'start_node & [end_node,cost]: {start_node} -> {row}')"
   ]
  },
  {
   "cell_type": "code",
   "execution_count": 45,
   "id": "431b0e61",
   "metadata": {},
   "outputs": [],
   "source": [
    "import heapq\n",
    "\n",
    "def dijkstra_heap(node, start, adj_lst):\n",
    "    INF = int(1e9)\n",
    "    distance = [INF] * (node+1)\n",
    "    \n",
    "    q = []\n",
    "    # heap 초기화 (0, 시작점)\n",
    "    heapq.heappush(q, (0, start))\n",
    "    distance[start] = 0\n",
    "    \n",
    "    # q 가 존재하면\n",
    "    while q:\n",
    "        cost, cur_node = heapq.heappop(q)\n",
    "        \n",
    "        # 이미 처리가 된 노드이면, 이미 최소값이면\n",
    "        if distance[cur_node] < cost:\n",
    "            continue\n",
    "            \n",
    "        # 현재 노드와 연결된 다른 인접한 노드들을 확인\n",
    "        for j in adj_lst[cur_node]:\n",
    "            \n",
    "            # 경유 과정 확인 비용\n",
    "            total_cost = cost + j[1]\n",
    "            \n",
    "            # 현재 노드를 거쳐서, 다른 노드로 이동하는 거리가 더 짧은 경우\n",
    "            if distance[j[0]] > total_cost:\n",
    "                distance[j[0]] = total_cost\n",
    "                heapq.heappush(q, (total_cost, j[0]))\n",
    "                \n",
    "    return distance"
   ]
  },
  {
   "cell_type": "code",
   "execution_count": 46,
   "id": "329e0b71",
   "metadata": {},
   "outputs": [
    {
     "name": "stdout",
     "output_type": "stream",
     "text": [
      "[1000000000, 0, 2, 3, 1, 2, 4]\n",
      "CPU times: user 256 µs, sys: 121 µs, total: 377 µs\n",
      "Wall time: 338 µs\n"
     ]
    }
   ],
   "source": [
    "%%time\n",
    "result = dijkstra_heap(node, start, adj_lst)\n",
    "print(result)"
   ]
  },
  {
   "cell_type": "markdown",
   "id": "29276226",
   "metadata": {},
   "source": [
    "## 3. Floyd-Warshall Algorithm\n",
    "- __모든 노드에서__ 에서 __다른 모든 노드__ 까지의 최단 경로를 모두 계산 \n",
    "- Dijkstra 와 마찬가지로 거쳐가는 노드를 기준으로 수행하지만, 매 단계 최단 거리를 갖는 노드를 찾는 과정이 없음\n",
    "- 2차원 테이블에 최단 거리 정보 저장 \n",
    "- 노드의 개수가 N 개일 때 N 번 만큼의 단계를 반복하여, '점화식에 맞게' 값을 갱신하기에 __다이나믹 알고리즘__ 으로 분류\n",
    "- $D = min(D_{ab}, D_{ak} + D_{kb})$ \n",
    "- $O(N^3)$"
   ]
  },
  {
   "cell_type": "code",
   "execution_count": 48,
   "id": "5a8acb68",
   "metadata": {},
   "outputs": [
    {
     "name": "stdout",
     "output_type": "stream",
     "text": [
      "4 7\n",
      "1 2 4\n",
      "1 4 6\n",
      "2 1 3\n",
      "2 3 7\n",
      "3 1 5\n",
      "3 4 4\n",
      "4 3 2\n",
      "[1000000000, 1000000000, 1000000000, 1000000000, 1000000000]\n",
      "[1000000000, 0, 4, 1000000000, 6]\n",
      "[1000000000, 3, 0, 7, 1000000000]\n",
      "[1000000000, 5, 1000000000, 0, 4]\n",
      "[1000000000, 1000000000, 1000000000, 2, 0]\n"
     ]
    }
   ],
   "source": [
    "# input\n",
    "\n",
    "# 노드와 간선 갯수 \n",
    "node, edge = map(int, input().split(' '))\n",
    "\n",
    "# 그래프 - adjacent matrix 형식 \n",
    "INF = int(1e9)\n",
    "\n",
    "# 그래프 초기화\n",
    "adj_matrix = [[INF] * (node+1) for _ in range(node+1)]\n",
    "for i in range(1, node+1):\n",
    "    adj_matrix[i][i] = 0\n",
    "\n",
    "# 그래프 초기화 \n",
    "for _ in range(0, edge):\n",
    "    start_, end_, cost = map(int, input().split(' '))\n",
    "    adj_matrix[start_][end_] = cost\n",
    "\n",
    "# 그래프 확인\n",
    "for row in adj_matrix:\n",
    "    print(row)"
   ]
  },
  {
   "cell_type": "code",
   "execution_count": 49,
   "id": "4243e362",
   "metadata": {},
   "outputs": [],
   "source": [
    "def floyd(node, adj_matrix):\n",
    "    for k in range(1, node+1):\n",
    "        for i in range(1, node+1):\n",
    "            for j in range(1, node+1):\n",
    "                if adj_matrix[i][j] > adj_matrix[i][k] + adj_matrix[k][j]:\n",
    "                    adj_matrix[i][j] = adj_matrix[i][k] + adj_matrix[k][j]\n",
    "    return adj_matrix"
   ]
  },
  {
   "cell_type": "code",
   "execution_count": 50,
   "id": "129347b3",
   "metadata": {},
   "outputs": [
    {
     "name": "stdout",
     "output_type": "stream",
     "text": [
      "[1000000000, 1000000000, 1000000000, 1000000000, 1000000000]\n",
      "[1000000000, 0, 4, 8, 6]\n",
      "[1000000000, 3, 0, 7, 9]\n",
      "[1000000000, 5, 9, 0, 4]\n",
      "[1000000000, 7, 11, 2, 0]\n",
      "CPU times: user 376 µs, sys: 159 µs, total: 535 µs\n",
      "Wall time: 466 µs\n"
     ]
    }
   ],
   "source": [
    "%%time\n",
    "result = floyd(node, adj_matrix)\n",
    "for row in result:\n",
    "    print(row)"
   ]
  },
  {
   "cell_type": "markdown",
   "id": "1f22501f",
   "metadata": {},
   "source": [
    "## 4. 최단경로 알고리즘 예시 문제"
   ]
  },
  {
   "cell_type": "markdown",
   "id": "67caf147",
   "metadata": {},
   "source": [
    "### 4-1. 미래 도시\n",
    "- https://github.com/ndb796/python-for-coding-test 참고\n",
    "- floy-warshall \n",
    "- 1 에서 K + K 에서 X"
   ]
  },
  {
   "cell_type": "code",
   "execution_count": 80,
   "id": "cbea944b",
   "metadata": {},
   "outputs": [
    {
     "name": "stdout",
     "output_type": "stream",
     "text": [
      "5 7\n",
      "1 2\n",
      "1 3\n",
      "1 4\n",
      "2 4\n",
      "3 4\n",
      "3 5\n",
      "4 5\n",
      "4 5\n"
     ]
    }
   ],
   "source": [
    "n, m = map(int, input().split())\n",
    "\n",
    "INF = int(1e9)\n",
    "graph = [[INF] * (n + 1) for _ in range(n + 1)]\n",
    "\n",
    "for i in range(1, n+1):\n",
    "    graph[i][i] = 0\n",
    "    \n",
    "for _ in range(m):\n",
    "    start_, end_ = map(int, input().split())\n",
    "    graph[start_][end_] = 1\n",
    "    graph[end_][start_] = 1\n",
    "    \n",
    "x, k = map(int, input().split())"
   ]
  },
  {
   "cell_type": "code",
   "execution_count": 81,
   "id": "5892d209",
   "metadata": {},
   "outputs": [
    {
     "name": "stdout",
     "output_type": "stream",
     "text": [
      "3\n"
     ]
    }
   ],
   "source": [
    "def solution(n, graph, x, k):\n",
    "    for k in range(1, n+1):\n",
    "        for i in range(1, n+1):\n",
    "            for j in range(1, n+1):\n",
    "                if graph[i][j] > graph[i][k] + graph[k][j]:\n",
    "                    graph[i][j] = graph[i][k] + graph[k][j]\n",
    "                    \n",
    "    distance = graph[1][k] + graph[k][x]\n",
    "    \n",
    "    if distance < INF:\n",
    "        return distance\n",
    "    else:\n",
    "        return '-1'\n",
    "\n",
    "print(solution(n, graph, x, k))"
   ]
  },
  {
   "cell_type": "markdown",
   "id": "4e1fbd9e",
   "metadata": {},
   "source": [
    "### 4-2. 전보\n",
    "- https://github.com/ndb796/python-for-coding-test 참고\n",
    "- Dijkstra"
   ]
  },
  {
   "cell_type": "code",
   "execution_count": 83,
   "id": "4af54a1e",
   "metadata": {},
   "outputs": [
    {
     "name": "stdout",
     "output_type": "stream",
     "text": [
      "3 2 1\n",
      "1 2 4\n",
      "1 3 2\n"
     ]
    }
   ],
   "source": [
    "n, m, c = map(int, input().split())\n",
    "\n",
    "graph = [[] for _ in range(n+1)]\n",
    "\n",
    "for _ in range(m):\n",
    "    start_, end_, cost_ = map(int, input().split())\n",
    "    graph[start_].append([end_, cost_])"
   ]
  },
  {
   "cell_type": "code",
   "execution_count": 117,
   "id": "465ba509",
   "metadata": {},
   "outputs": [],
   "source": [
    "import heapq\n",
    "\n",
    "def dijkstra(n, start, graph):\n",
    "    INF = int(1e9)\n",
    "    distance = [INF] * (n+1)\n",
    "    \n",
    "    q = []\n",
    "    heapq.heappush(q, (0, start))\n",
    "    distance[start] = 0\n",
    "    \n",
    "    while q:\n",
    "        dis, cur_node = heapq.heappop(q)\n",
    "        \n",
    "        if distance[cur_node] < dis:\n",
    "            continue\n",
    "            \n",
    "        for j in graph[cur_node]:\n",
    "            cost = dis + j[1]\n",
    "            if distance[j[0]] > cost:\n",
    "                distance[j[0]] = cost\n",
    "                heapq.heappush(q, (cost, j[0]))\n",
    "                \n",
    "    cnt = 0\n",
    "    max_ = int(-1e9)\n",
    "    for i in distance:\n",
    "        if 0 < i < INF:\n",
    "            cnt += 1\n",
    "            max_ = max(i, max_)\n",
    "        \n",
    "    return cnt, max_"
   ]
  },
  {
   "cell_type": "code",
   "execution_count": 119,
   "id": "cf83fc39",
   "metadata": {},
   "outputs": [
    {
     "name": "stdout",
     "output_type": "stream",
     "text": [
      "2 4\n"
     ]
    }
   ],
   "source": [
    "total_cities, time = dijkstra(n, start, graph)\n",
    "print(total_cities, time)"
   ]
  }
 ],
 "metadata": {
  "kernelspec": {
   "display_name": "py38_transformers",
   "language": "python",
   "name": "py38"
  },
  "language_info": {
   "codemirror_mode": {
    "name": "ipython",
    "version": 3
   },
   "file_extension": ".py",
   "mimetype": "text/x-python",
   "name": "python",
   "nbconvert_exporter": "python",
   "pygments_lexer": "ipython3",
   "version": "3.8.12"
  }
 },
 "nbformat": 4,
 "nbformat_minor": 5
}