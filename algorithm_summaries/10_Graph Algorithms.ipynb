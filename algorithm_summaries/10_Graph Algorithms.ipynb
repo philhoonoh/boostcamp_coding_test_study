{
 "cells": [
  {
   "cell_type": "markdown",
   "id": "969bbfb4",
   "metadata": {},
   "source": [
    "# Graph Algorithms (그래프 알고리즘)"
   ]
  },
  {
   "cell_type": "markdown",
   "id": "9f81a897",
   "metadata": {},
   "source": [
    "# Objective\n",
    "1. 서로소 집합 알고리즘\n",
    "2. 서로소 집합 알고리즘을 통한 사이클 판별\n",
    "3. Kruskal Algorithm\n",
    "4. Topology Sort Algorithm\n",
    "5. Graph Algorithm 예시 문제"
   ]
  },
  {
   "cell_type": "markdown",
   "id": "87a439a8",
   "metadata": {},
   "source": [
    "## 1. 서로소 집합 알고리즘"
   ]
  },
  {
   "cell_type": "markdown",
   "id": "2de5aaef",
   "metadata": {},
   "source": [
    "### 1-1. 서로소 집합 정의 \n",
    "- 서로소 집합 (Disjoint Sets)란 __공통 원소가 없는 두 집합__ 을 의미합니다. \n",
    "- 서로소 집합 자료구조란 __서로소 부분 집합들로 나누어진 원소들의 데이터를 처리하기 위한 자료구조__ 입니다.\n",
    "\n",
    "\n",
    "### 1-2. 서로소 집합 자료구조의 연산\n",
    "- __Union__ : 2개의 원소가 포함된 집합을 하나의 집합으로 합치는 연산입니다. \n",
    "- __Find__ : 특정한 원소가 속한 집합이 어떤 집합인지 알려주는 연산입니다. \n",
    "- 서로소 집합 자료구조는 __Union-find__ 자료구조라고 불리기도 합니다. \n",
    "\n",
    "\n",
    "### 1-3. 서로소 집합 자료구조의 동작 과정 \n",
    "- 서로소 집합을 구현할 때는 트리 자료구조를 이용하여 집합을 표현합니다. \n",
    "- 서로소 집합 계산의 알고리즘은 다음과 같습니다. \n",
    "    1. Union 연산을 확인하여, 서로 연결된 두 노드 A,B 를 확인합니다.  \n",
    "        a. A와 B의 루트 노드 A', B' 를 각각 찾습니다.  \n",
    "        b. A'를 B'의 부모노드로 설정합니다.  \n",
    "    2. 모든 Union 연산을 처리할 때까지 1번의 과정을 반복합니다."
   ]
  },
  {
   "cell_type": "code",
   "execution_count": 2,
   "id": "a4392c69",
   "metadata": {
    "scrolled": true
   },
   "outputs": [
    {
     "name": "stdout",
     "output_type": "stream",
     "text": [
      "6 4\n",
      "1 4\n",
      "2 3\n",
      "2 4\n",
      "5 6\n"
     ]
    }
   ],
   "source": [
    "v, e = map(int, input().split())\n",
    "union_lst = []\n",
    "for i in range(e):\n",
    "    a, b = map(int, input().split())\n",
    "    union_lst.append((a,b))"
   ]
  },
  {
   "cell_type": "code",
   "execution_count": 4,
   "id": "b3368d9a",
   "metadata": {},
   "outputs": [],
   "source": [
    "# Find 함수\n",
    "def find_parent(parent, x):\n",
    "    if parent[x] != x:\n",
    "        return find_parent(parent, parent[x])\n",
    "    return x\n",
    "\n",
    "# Union 함수\n",
    "def union_parent(parent, a, b):\n",
    "    a = find_parent(parent, a)\n",
    "    b = find_parent(parent, b)\n",
    "    if a < b:\n",
    "        parent[b] = a\n",
    "    else:\n",
    "        parent[a] = b"
   ]
  },
  {
   "cell_type": "code",
   "execution_count": 5,
   "id": "d2f1e100",
   "metadata": {},
   "outputs": [
    {
     "name": "stdout",
     "output_type": "stream",
     "text": [
      "각 원소가 속한 집합 :  1 1 1 1 5 5 \n",
      "부모 테이블 :  1 1 2 1 5 5 "
     ]
    }
   ],
   "source": [
    "# 부모 테이블 초기화\n",
    "parent = [0] * (v+1)\n",
    "for i in range(1, v+1):\n",
    "    parent[i] = i\n",
    "    \n",
    "\n",
    "# union 연산 실행\n",
    "for a, b in union_lst:\n",
    "    union_parent(parent, a, b)\n",
    "\n",
    "# 각 원소가 속한 집한 출력\n",
    "print('각 원소가 속한 집합 : ', end = ' ')\n",
    "for i in range(1, v+1):\n",
    "    print(find_parent(parent, i), end = ' ')\n",
    "print()\n",
    "\n",
    "# 부모 테이블 내용 출력\n",
    "print('부모 테이블 : ', end = ' ')\n",
    "for i in range(1, v+1):\n",
    "    print(parent[i], end = ' ')"
   ]
  },
  {
   "cell_type": "markdown",
   "id": "0154129d",
   "metadata": {},
   "source": [
    "### 1-4. 기본적인 서로소 집합 자료구조의 단점 \n",
    "- 위의 기본적인 형태의 서로소 집합의 자료구조에서는 루트 노드에 즉시 접근할 수 없습니다.\n",
    "    - 루트 노드를 찾기 위해 부모 테이블을 계속해서 확인하며 거슬러 올라가야 합니다.\n",
    "    - 위에서 볼수 있듯이 각 원소가 속한 집합 과 부모 테이블이 내용이 서로 다른 것을 볼 수 있습니다.\n",
    "- 이 경우 Union 연산이 편향되게 이루어져 __Find__ 함수가 비효율적으로 동작합니다.\n",
    "    - 최악의 경우 (1<-2<-3<-4<-5) 로 서로소 집합 자료구조가 정의될 시, 시간 복잡도가 $O(V)$ 입니다.\n",
    "    \n",
    "### 1-5. 개선된 서로소 집합 자료구조 \n",
    "- __Find__ 함수를 최적화 하기위해 __경로 압축 (Path Compression)__ 을 이용할 수 있습니다. \n",
    "    - Find 함수를 재귀적으로 호출한 뒤에 _부모 테이블 값을 바로 갱신_합니다. "
   ]
  },
  {
   "cell_type": "code",
   "execution_count": 7,
   "id": "fc479e4c",
   "metadata": {},
   "outputs": [],
   "source": [
    "# Path Compression Find 함수\n",
    "def find_parent_path_comp(parent, x):\n",
    "    if parent[x] != x:\n",
    "        parent[x] = find_parent(parent, parent[x])\n",
    "    return parent[x]\n",
    "\n",
    "# Union 함수\n",
    "def union_parent_path_comp(parent, a, b):\n",
    "    a = find_parent_path_comp(parent, a)\n",
    "    b = find_parent_path_comp(parent, b)\n",
    "    if a < b:\n",
    "        parent[b] = a\n",
    "    else:\n",
    "        parent[a] = b"
   ]
  },
  {
   "cell_type": "code",
   "execution_count": 8,
   "id": "ada9fbf5",
   "metadata": {},
   "outputs": [
    {
     "name": "stdout",
     "output_type": "stream",
     "text": [
      "각 원소가 속한 집합 :  1 1 1 1 5 5 \n",
      "부모 테이블 :  1 1 1 1 5 5 "
     ]
    }
   ],
   "source": [
    "# 부모 테이블 초기화\n",
    "parent = [0] * (v+1)\n",
    "for i in range(1, v+1):\n",
    "    parent[i] = i\n",
    "    \n",
    "\n",
    "# union 연산 실행\n",
    "for a, b in union_lst:\n",
    "    union_parent_path_comp(parent, a, b)\n",
    "\n",
    "# 각 원소가 속한 집한 출력\n",
    "print('각 원소가 속한 집합 : ', end = ' ')\n",
    "for i in range(1, v+1):\n",
    "    print(find_parent_path_comp(parent, i), end = ' ')\n",
    "print()\n",
    "\n",
    "# 부모 테이블 내용 출력\n",
    "print('부모 테이블 : ', end = ' ')\n",
    "for i in range(1, v+1):\n",
    "    print(parent[i], end = ' ')"
   ]
  },
  {
   "cell_type": "markdown",
   "id": "11e76440",
   "metadata": {},
   "source": [
    "## 2. 서로소 집합 알고리즘을 통한 사이클 판별\n",
    "- 서로소 집합은 __무방향 그래프(Undirected Graph) 내에서의 사이클을 판별__할 때 사용할 수 있습니다. \n",
    "    - __방향 그래프(Directed Graph)__ 에서의 사이클 여부는 DFS 를 이용하여 판별할 수 있습니다. \n",
    "- 사이클 판별 알고리즘\n",
    "    1. 각 간선을 하나씩 확인하며 두노드의 루트 노드를 확입니다.  \n",
    "        a. 루트 노드가 다르다면 두 노드에 대하여 __Union__ 연산을 수행합니다.  \n",
    "        b. 루트 노드가 서로 같다면 사이클(Cycle)이 발생한 것입니다.    \n",
    "    2. 그래프에 포함되어 있는 모든 간선에 대하여 1번의 과정을 반복합니다. "
   ]
  },
  {
   "cell_type": "code",
   "execution_count": 9,
   "id": "d137a191",
   "metadata": {},
   "outputs": [
    {
     "name": "stdout",
     "output_type": "stream",
     "text": [
      "3 3\n",
      "1 2\n",
      "1 3\n",
      "2 3\n"
     ]
    }
   ],
   "source": [
    "v, e = map(int, input().split())\n",
    "edges_lst = []\n",
    "for i in range(e):\n",
    "    a, b = map(int, input().split())\n",
    "    edges_lst.append((a,b))"
   ]
  },
  {
   "cell_type": "code",
   "execution_count": 11,
   "id": "f1baf470",
   "metadata": {},
   "outputs": [],
   "source": [
    "def find_parent(parent, x):\n",
    "    if parent[x] != x:\n",
    "        parent[x] = find_parent(parent, parent[x])\n",
    "    return parent[x]\n",
    "\n",
    "def union_parent(parent, a, b):\n",
    "    a = find_parent(parent, a)\n",
    "    b = find_parent(parent, b)\n",
    "    if a < b:\n",
    "        parent[b] = a\n",
    "    else:\n",
    "        parent[a] = b"
   ]
  },
  {
   "cell_type": "code",
   "execution_count": 12,
   "id": "66670321",
   "metadata": {},
   "outputs": [],
   "source": [
    "parent = [0] * (v + 1)\n",
    "for i in range(1, v+1):\n",
    "    parent[i] = i"
   ]
  },
  {
   "cell_type": "code",
   "execution_count": 13,
   "id": "2c065a2a",
   "metadata": {},
   "outputs": [
    {
     "name": "stdout",
     "output_type": "stream",
     "text": [
      "사이클이 발생했습니다\n"
     ]
    }
   ],
   "source": [
    "cycle = False\n",
    "\n",
    "for a, b in edges_lst:\n",
    "    if find_parent(parent, a) == find_parent(parent, b):\n",
    "        cycle = True\n",
    "        break\n",
    "    else:\n",
    "        union_parent(parent, a, b)\n",
    "        \n",
    "if cycle:\n",
    "    print('사이클이 발생했습니다')\n",
    "else:\n",
    "    print('사이클이 발생하지 않았습니다.')"
   ]
  },
  {
   "cell_type": "markdown",
   "id": "29276226",
   "metadata": {},
   "source": [
    "## 3. Kruskal Algorithm\n",
    "- __신장 트리__ 란 __그래프에서 모든 노드를 포함하면서 사이클이 존재하지 않는 부분 그래프__를 의미합니다. \n",
    "    - 모든 노드가 포함되어 서로 연결되면서 사이클이 존재하지 않는다는 조건은 __트리__ 의 조건이기도 합니다. \n",
    "- __최소 신장 트리__ 란 최소한의 비용으로 구성되는 신장트리를 뜻 합니다. \n",
    "    - 예를 들어 N개의 도시가 존재하는 상황에서 두 도시 사이에 도로를 놓아 전체 도시가 서로 연결될 수 있게 도로를 설치하는 경우가 있습니다.\n",
    "- 최소 비용으로 만들 수 있는 신장 트리를 찾는 알고리즘을 __최소 신장 트리 알고리즘__ 이라고 하며, 대표적으로는 __Kruskal Algorithm__ 이 있습니다. \n",
    "  \n",
    "- __Kruskal Algorithm__\n",
    "    - 그리디 알고리즘으로 분류 됩니다.\n",
    "    - 알고리즘은 다음과 같습니다.  \n",
    "        1. 간선 데이터를 비용에 따라 __오름차순__ 으로 정렬합니다.\n",
    "        2. 간선을 하나씩 확인하며 __현재의 간선이 사이클을 발생시키는지 확인__ 합니다.  \n",
    "            1) 사이클이 발생하지 않는 경우 최소 신장 트리에 포함시킵니다.\n",
    "            2) 사이클이 발생하는 경우 최소 신장 트리에 포함시키지 않습니다.\n",
    "        3. 모든 간선에 대하여 2번의 과정을 반복합니다.  \n",
    "    - 간선의 개수가 E개 일때 $0(ElogE)$ 의 시간 복잡도를 가집니다. 해당 알고리즘에서 가장 오래 걸리는 부분이 간선을 정렬하는 작업이기 때문입니다. "
   ]
  },
  {
   "cell_type": "code",
   "execution_count": 14,
   "id": "4b98517b",
   "metadata": {},
   "outputs": [
    {
     "name": "stdout",
     "output_type": "stream",
     "text": [
      "7 9\n",
      "1 2 29\n",
      "1 5 75\n",
      "2 3 35\n",
      "2 6 34\n",
      "3 4 7\n",
      "4 6 23\n",
      "4 7 13\n",
      "5 6 53\n",
      "6 7 25\n"
     ]
    }
   ],
   "source": [
    "v, e = map(int, input().split())\n",
    "edges_lst = []\n",
    "for i in range(e):\n",
    "    a, b, cost = map(int, input().split())\n",
    "    edges_lst.append((a, b, cost))"
   ]
  },
  {
   "cell_type": "code",
   "execution_count": 20,
   "id": "8a51b29f",
   "metadata": {},
   "outputs": [],
   "source": [
    "def find_parent(parent, x):\n",
    "    if parent[x] != x:\n",
    "        parent[x] = find_parent(parent, parent[x])\n",
    "    return parent[x]\n",
    "\n",
    "def union_parent(a, b):\n",
    "    a = find_parent(parent, a)\n",
    "    b = find_parent(parent, b)\n",
    "    if a < b:\n",
    "        parent[b] = a\n",
    "    else:\n",
    "        parent[a] = b"
   ]
  },
  {
   "cell_type": "code",
   "execution_count": 21,
   "id": "b440d776",
   "metadata": {},
   "outputs": [],
   "source": [
    "parent = [0] * (v+1)\n",
    "for i in range(1, v+1):\n",
    "    parent[i] = i"
   ]
  },
  {
   "cell_type": "code",
   "execution_count": 22,
   "id": "67297054",
   "metadata": {},
   "outputs": [
    {
     "name": "stdout",
     "output_type": "stream",
     "text": [
      "159\n"
     ]
    }
   ],
   "source": [
    "edges = []\n",
    "result = 0\n",
    "\n",
    "for a, b, cost in edges_lst:\n",
    "    edges.append((cost, a, b))\n",
    "    \n",
    "# 간선을 비용 순으로 정렬\n",
    "edges.sort()\n",
    "\n",
    "for edge in edges:\n",
    "    cost, a, b = edge\n",
    "    \n",
    "    # 간선이 사이클이지 않은 경우, 집합에 포함\n",
    "    if find_parent(parent, a) != find_parent(parent, b):\n",
    "        union_parent(a, b)\n",
    "        result += cost\n",
    "\n",
    "print(result)"
   ]
  },
  {
   "cell_type": "markdown",
   "id": "1f22501f",
   "metadata": {},
   "source": [
    "## 4. Topology Sort Algorithm (위상 정렬 알고리즘) \n",
    "- __사이클이 없는 방향 그래프 - DAG (Directed Acyclic Graph)__ 의 모든 노드를 방향성에 거스르지 않도록 순서대로 나열하는 것 입니다.\n",
    "- 전형적인 예시로는 '선수과목을 고려한 학습 순서 설정' 이 있습니다.\n",
    "- __진입차수(Indegree)__ 란 특정한 노드로 '들어오는' 간선의 개수를 의미합니다. \n",
    "- __진출차수(Outdegree)__ 란 특정한 노드에서 '나가는' 간선의 개수를 의미합니다. \n",
    "- 위상 정렬 알고리즘은 다음과 같습니다.  \n",
    "    1. 집입차수가 0인 노드를 큐에 넣습니다.  \n",
    "    2. 큐가 빌 때까지 다음의 과정을 반복합니다.  \n",
    "        a. 큐에서 원소를 꺼내 해당 노드에서 나가는 간선을 그래프에서 제거합니다.  \n",
    "        b. 새롭게 진입차수가 0이 된 노드를 큐에 넣습니다.  \n",
    "        \n",
    "- 결과적으로 __각 노드가 큐에 들어온 순서가 위상정렬을 수행한 결과__ 입니다. \n",
    "- 위상 정렬에서는 __여러 가지 답이 존재__ 할수 있습니다.\n",
    "    - 매 단계에서 큐에 새롭게 들어오는 원소가 2개 이상인 경우 여러가지 답이 존재합니다. \n",
    "- __모든 원소를 방문하기 전에 큐가 빈다면 사이클이 존재__ 하는 것을 의미합니다. \n",
    "    - 사이클에 포함된 원소 중에서 어떠한 원소도 큐에 들어가지 못합니다. \n",
    "\n",
    "- 간선의 개수 : E, 노드가 V 일때 __시간복잡도는 $0(V+E)$__ 입니다. 위상정렬을 수행할때에는 모든 노드를 확인하고, 해당 노드에 연결된 간선을 차례대로 제거하기 때문입니다. 결과적으로 모든 간선과 노드를 확인한다는 측면에서 $0(V+E)$의 시간이 소요됩니다. "
   ]
  },
  {
   "cell_type": "code",
   "execution_count": 23,
   "id": "35238627",
   "metadata": {},
   "outputs": [
    {
     "name": "stdout",
     "output_type": "stream",
     "text": [
      "7 8\n",
      "1 2\n",
      "1 5\n",
      "2 3\n",
      "2 6\n",
      "3 4\n",
      "4 7\n",
      "5 6\n",
      "6 4\n"
     ]
    }
   ],
   "source": [
    "v, e = map(int, input().split())\n",
    "edge_lst = []\n",
    "for i in range(e):\n",
    "    a, b = map(int, input().split())\n",
    "    edge_lst.append((a,b))"
   ]
  },
  {
   "cell_type": "code",
   "execution_count": 25,
   "id": "54bd40fa",
   "metadata": {},
   "outputs": [],
   "source": [
    "indegree = [0] * (v+1)\n",
    "graph = [[] for _ in range(v+1)]"
   ]
  },
  {
   "cell_type": "code",
   "execution_count": 26,
   "id": "1146f20a",
   "metadata": {},
   "outputs": [],
   "source": [
    "for a, b in edge_lst:\n",
    "    graph[a].append(b)\n",
    "    indegree[b] += 1"
   ]
  },
  {
   "cell_type": "code",
   "execution_count": 27,
   "id": "5f87f08f",
   "metadata": {},
   "outputs": [],
   "source": [
    "from collections import deque\n",
    "\n",
    "def topology_sort(indegree, graph):\n",
    "    result = []\n",
    "    q = deque()\n",
    "    \n",
    "    for i in range(1, v+1):\n",
    "        if indegree[i] == 0:\n",
    "            q.append(i)\n",
    "            \n",
    "    while q:\n",
    "        \n",
    "        now = q.popleft()\n",
    "        result.append(now)\n",
    "        \n",
    "        for i in graph[now]:\n",
    "            indegree[i] -= 1\n",
    "            if indegree[i] == 0:\n",
    "                q.append(i)\n",
    "    return result"
   ]
  },
  {
   "cell_type": "code",
   "execution_count": 28,
   "id": "42056f43",
   "metadata": {},
   "outputs": [
    {
     "name": "stdout",
     "output_type": "stream",
     "text": [
      "[1, 2, 5, 3, 6, 4, 7]\n"
     ]
    }
   ],
   "source": [
    "print(topology_sort(indegree, graph))"
   ]
  },
  {
   "cell_type": "markdown",
   "id": "ec920da2",
   "metadata": {},
   "source": [
    "## 5. Graph Algorithm 예시 문제"
   ]
  },
  {
   "cell_type": "markdown",
   "id": "67caf147",
   "metadata": {},
   "source": [
    "### 5-1. 팀 결성\n",
    "- https://github.com/ndb796/python-for-coding-test 참고\n",
    "- 서로소 집합 알고리즘"
   ]
  },
  {
   "cell_type": "code",
   "execution_count": 29,
   "id": "8f871fe6",
   "metadata": {
    "scrolled": true
   },
   "outputs": [
    {
     "name": "stdout",
     "output_type": "stream",
     "text": [
      "7 8\n",
      "0 1 3\n",
      "1 1 7\n",
      "0 7 6\n",
      "1 7 1\n",
      "0 3 7\n",
      "0 4 2\n",
      "0 1 1\n",
      "1 1 1\n"
     ]
    }
   ],
   "source": [
    "n, m = map(int, input().split())\n",
    "oper_lst = []\n",
    "\n",
    "for _ in range(m):\n",
    "    oper, a, b = map(int, input().split())\n",
    "    oper_lst.append((oper, a, b))"
   ]
  },
  {
   "cell_type": "code",
   "execution_count": 31,
   "id": "85478252",
   "metadata": {},
   "outputs": [],
   "source": [
    "def find_parent(parent, x):\n",
    "    if parent[x] != x:\n",
    "        parent[x] = find_parent(parent, parent[x])\n",
    "    return parent[x]\n",
    "\n",
    "def union_parent(parent, a, b):\n",
    "    a = find_parent(parent, a)\n",
    "    b = find_parent(parent, b)\n",
    "    if a < b:\n",
    "        parent[b] = a\n",
    "    else:\n",
    "        parent[a] = b"
   ]
  },
  {
   "cell_type": "code",
   "execution_count": 35,
   "id": "47ad7e7a",
   "metadata": {},
   "outputs": [
    {
     "name": "stdout",
     "output_type": "stream",
     "text": [
      "NO\n",
      "NO\n",
      "YES\n"
     ]
    }
   ],
   "source": [
    "def solution(n, m, oper_lst):\n",
    "    parent = [0] * (n+1)\n",
    "    for i in range(0, n+1):\n",
    "        parent[i] = i\n",
    "    \n",
    "    for oper, a, b in oper_lst:\n",
    "        if oper == 0:\n",
    "            union_parent(parent, a, b)\n",
    "        else:\n",
    "            if find_parent(parent, a) != find_parent(parent, b):\n",
    "                print('NO')\n",
    "            else:\n",
    "                print('YES')\n",
    "solution(n, m, oper_lst)"
   ]
  },
  {
   "cell_type": "markdown",
   "id": "81b0d8aa",
   "metadata": {},
   "source": [
    "### 5-2. 도시 분할 계획\n",
    "- https://github.com/ndb796/python-for-coding-test 참고\n",
    "- Kruskal Algorithm"
   ]
  },
  {
   "cell_type": "code",
   "execution_count": 36,
   "id": "27ec96a8",
   "metadata": {
    "scrolled": true
   },
   "outputs": [
    {
     "name": "stdout",
     "output_type": "stream",
     "text": [
      "7 12\n",
      "1 2 3\n",
      "1 3 2\n",
      "3 2 1\n",
      "2 5 2\n",
      "3 4 4\n",
      "7 3 6\n",
      "5 1 5\n",
      "1 6 2\n",
      "6 4 1\n",
      "6 5 3\n",
      "4 5 3\n",
      "6 7 4\n"
     ]
    }
   ],
   "source": [
    "n, m = map(int, input().split())\n",
    "edges_lst = []\n",
    "\n",
    "for _ in range(m):\n",
    "    a, b, cost = map(int, input().split())\n",
    "    edges_lst.append((a, b, cost))"
   ]
  },
  {
   "cell_type": "code",
   "execution_count": 44,
   "id": "46a2b099",
   "metadata": {},
   "outputs": [],
   "source": [
    "def find_parent(parent, x):\n",
    "    if parent[x] != x:\n",
    "        parent[x] = find_parent(parent, parent[x])\n",
    "    return parent[x]\n",
    "\n",
    "def union_parent(parent, a, b):\n",
    "    a = find_parent(parent, a)\n",
    "    b = find_parent(parent, b)\n",
    "    if a < b:\n",
    "        parent[b] = a\n",
    "    else:\n",
    "        parent[a] = b"
   ]
  },
  {
   "cell_type": "code",
   "execution_count": 45,
   "id": "a22f0064",
   "metadata": {},
   "outputs": [],
   "source": [
    "parent = [0] * (n+1)\n",
    "for i in range(1, n+1):\n",
    "    parent[i] = i"
   ]
  },
  {
   "cell_type": "code",
   "execution_count": 46,
   "id": "d63cb636",
   "metadata": {},
   "outputs": [],
   "source": [
    "edges = []\n",
    "\n",
    "for a, b, cost in edges_lst:\n",
    "    edges.append((cost, a, b))\n",
    "    \n",
    "edges.sort()"
   ]
  },
  {
   "cell_type": "code",
   "execution_count": 47,
   "id": "b448240f",
   "metadata": {},
   "outputs": [],
   "source": [
    "result = []\n",
    "\n",
    "for cost, a, b in edges:\n",
    "    if find_parent(parent, a) != find_parent(parent, b):\n",
    "        union_parent(parent, a, b)\n",
    "        result.append(cost)"
   ]
  },
  {
   "cell_type": "code",
   "execution_count": 49,
   "id": "0ac50b9e",
   "metadata": {},
   "outputs": [
    {
     "name": "stdout",
     "output_type": "stream",
     "text": [
      "8\n"
     ]
    }
   ],
   "source": [
    "print(sum(result)-max(result))"
   ]
  },
  {
   "cell_type": "markdown",
   "id": "fa7347c8",
   "metadata": {},
   "source": [
    "### 5-3. 커리큘럼\n",
    "- https://github.com/ndb796/python-for-coding-test 참고\n",
    "- Topology Sort Algorithm"
   ]
  },
  {
   "cell_type": "code",
   "execution_count": 82,
   "id": "cbea944b",
   "metadata": {},
   "outputs": [
    {
     "name": "stdout",
     "output_type": "stream",
     "text": [
      "5 \n",
      "10 -1\n",
      "10 1 -1\n",
      "4 1 -1\n",
      "4 3 1 -1\n",
      "3 3 -1\n"
     ]
    }
   ],
   "source": [
    "n = int(input())\n",
    "\n",
    "graph = [[] for _ in range(n+1)]\n",
    "indegree = [0] * (n+1)\n",
    "time = [0] * (n+1)\n",
    "\n",
    "for i in range(1, n+1):\n",
    "    input_lst = list(map(int, input().split()))\n",
    "    time[i] = input_lst[0]\n",
    "    for course in input_lst[1:-1]:\n",
    "        graph[course].append(i)\n",
    "        indegree[i] += 1\n",
    "\n",
    "# 5\n",
    "# 10 -1\n",
    "# 10 1 -1\n",
    "# 4 1 -1\n",
    "# 4 3 1 -1\n",
    "# 3 3 -1"
   ]
  },
  {
   "cell_type": "code",
   "execution_count": 86,
   "id": "a16b2f64",
   "metadata": {},
   "outputs": [],
   "source": [
    "from copy import deepcopy\n",
    "result_time = deepcopy(time)"
   ]
  },
  {
   "cell_type": "code",
   "execution_count": 88,
   "id": "2374d52d",
   "metadata": {},
   "outputs": [
    {
     "name": "stdout",
     "output_type": "stream",
     "text": [
      "10\n",
      "20\n",
      "14\n",
      "18\n",
      "17\n"
     ]
    }
   ],
   "source": [
    "from collections import deque\n",
    "from copy import deepcopy\n",
    "\n",
    "def topology_sort():\n",
    "    q = deque()\n",
    "    \n",
    "    for i in range(1, n+1):\n",
    "        if indegree[i] == 0:\n",
    "            q.append(i)\n",
    "    \n",
    "    while q:\n",
    "        now = q.popleft()\n",
    "        \n",
    "        for i in graph[now]:\n",
    "            result_time[i] = max(result_time[i], result_time[now] + time[i])\n",
    "            indegree[i] -= 1\n",
    "            if indegree[i] == 0:\n",
    "                q.append(i)\n",
    "                \n",
    "    for i in range(1, n+1):\n",
    "        print(result_time[i])\n",
    "        \n",
    "topology_sort()"
   ]
  }
 ],
 "metadata": {
  "kernelspec": {
   "display_name": "py38_transformers",
   "language": "python",
   "name": "py38"
  },
  "language_info": {
   "codemirror_mode": {
    "name": "ipython",
    "version": 3
   },
   "file_extension": ".py",
   "mimetype": "text/x-python",
   "name": "python",
   "nbconvert_exporter": "python",
   "pygments_lexer": "ipython3",
   "version": "3.8.12"
  }
 },
 "nbformat": 4,
 "nbformat_minor": 5
}
