{
 "cells": [
  {
   "cell_type": "markdown",
   "id": "969bbfb4",
   "metadata": {},
   "source": [
    "# Binary Search Algorithm"
   ]
  },
  {
   "cell_type": "markdown",
   "id": "9f81a897",
   "metadata": {},
   "source": [
    "## Objective\n",
    "1. 이진 탐색 알고리즘 특징 \n",
    "2. 이진 탐색 알고리즘 구현방법\n",
    "3. 이진 탐색을 활용한 Parametric Search"
   ]
  },
  {
   "cell_type": "markdown",
   "id": "87a439a8",
   "metadata": {},
   "source": [
    "### 1.  이진 탐색 알고리즘의 특징 "
   ]
  },
  {
   "cell_type": "markdown",
   "id": "0154129d",
   "metadata": {},
   "source": [
    "- __정렬된__ 상태의 데이터에서 빠르게 탐색을 하기 위한 알고리즘 \n",
    "- 탐색 범위를 반으로 줄여가면서 실시하며 이는 연산 횟수가 _$log{_2}{N}$_ 의미한다. 따라서 시간복잡도는 __O($log{N}$)__ 이다. \n",
    "- 이와는 반대로 순차적으로 데이터를 하나하나 확인하는 방법은 __순차 탐색(Sequential Search)__ 이며 시간복잡도는 O(N) 이다. \n",
    "- 관련된 자료구조로는 __이진 탐색 트리(Binary Search Tree)__ 가 있다. 아래 링크 참고\n",
    "    - [이진 탐색 트리(Binary Search Tree)설명1](https://github.com/prokokok/algorithm_re/blob/main/0_DataStructureAlgorithms_re/20_lecture.md)\n",
    "    - [이진 탐색 트리(Binary Search Tree)설명2](https://github.com/prokokok/algorithm_re/blob/main/0_DataStructureAlgorithms_re/21_lecture.md)\n",
    "- 이진 탐색 트리의 탐색 과정은 이진 탐색과 조금은 다르지만 그 기저의 원리(반띵)는 같다. \n",
    "- 시간복잡도에서 볼수 있듯이 빠른 탐색이 가능하여 데이터베이스 시스템이나 파일시스템과 같은 곳에서 많은 양의 데이터를 관리하기 위해 해당 자료구조를 사용한다. "
   ]
  },
  {
   "cell_type": "markdown",
   "id": "11e76440",
   "metadata": {},
   "source": [
    "### 2. 이진 탐색 알고리즘 구현 방법"
   ]
  },
  {
   "cell_type": "markdown",
   "id": "83333346",
   "metadata": {},
   "source": [
    "- 이진 탐색은 재귀 또는 반복문으로 구현할 수 있다.\n",
    "- 개인적으로 반복문이 선호한다. \n",
    "    - 시간복잡도는 같으나 재귀적으로 함수를 호출시 비용이 발생하기 때문이며, \n",
    "    - 뒤에 나올 Parametric Search에 적용하기 훨씬 쉽기 때문이다."
   ]
  },
  {
   "cell_type": "markdown",
   "id": "bdfd9c9d",
   "metadata": {},
   "source": [
    "```python\n",
    "# 재귀 활용\n",
    "def binary_search_recur(array, target, start, end):\n",
    "    if start > end:\n",
    "        return None\n",
    "    \n",
    "    mid = (start+end) // 2\n",
    "    if array[mid] == target:\n",
    "        return mid\n",
    "    elif if array[mid] > target:\n",
    "        return binary_search(array, target, start, mid-1)\n",
    "    else:\n",
    "        return binary_search(array, target, mid+1, end)\n",
    "\n",
    "\n",
    "# 반복문 활용\n",
    "def binary_search_loop(array, target, start, end):\n",
    "    while start <= end:\n",
    "        mid = (start+end) // 2\n",
    "    \n",
    "        if array[mid] == target:\n",
    "            return mid\n",
    "        elif if array[mid] > target:\n",
    "            end = mid - 1\n",
    "        else:\n",
    "            start = mid + 1\n",
    "    return None\n",
    "\n",
    "array = [1,3,5,7,9,11,13,15,17,19]\n",
    "end = len(array) - 1\n",
    "start = 0\n",
    "target = 7\n",
    "\n",
    "binary_search_recur(array, target, start, end)\n",
    "binary_search_loop(array, target, start, end)\n",
    "```"
   ]
  },
  {
   "cell_type": "markdown",
   "id": "33704cee",
   "metadata": {},
   "source": [
    "### 3. 이진 탐색을 활용한 Parametric Search\n",
    "- __Parametric Search__ 란 \n",
    "    - 최적화 문제를 결정문제('예' 혹은 '아니오'답하는 문제)로 바꾸어 해결하는 기법\n",
    "    - 원하는 조건을 만족하는 가장 알맞은 값을 찬는 문제\n",
    "    - 이진 탐색을 활용하며 범위를 좁혀간다. \n",
    "    - 이진 탐색의 알고리즘 문제(코딩 테스트 한정)는 거의 Parametric Search 문제이며, 해당 방법으로 거의다 풀리는 것 같다. \n",
    "\n",
    "- 아래와 같은 Template를 사용"
   ]
  },
  {
   "cell_type": "markdown",
   "id": "16d3312a",
   "metadata": {},
   "source": [
    "```python\n",
    "# Binary Search - Parametric Search Template\n",
    "\n",
    "# Parametric Search 함수 : True 혹은 False 답하는 문제\n",
    "# args 같은 경우 문제에 따라 변동\n",
    "def is_possible(mid, args):\n",
    "    # 가능하면 True 불가능하면 False 반환 \n",
    "    if condition is True:\n",
    "        return True\n",
    "    return False\n",
    "\n",
    "# Binray search\n",
    "# lower 값이 upper 보다 크면 exit \n",
    "while lower <= upper:\n",
    "    mid = (lower + upper) // 2\n",
    "    \n",
    "    # 문제에 따라 변동이 있지만 \n",
    "    # 특정 조건이 True면 upper = mid -1,\n",
    "    # 특정 조건이 False면 lower = mid + 1\n",
    "    if is_possible(mid, args):\n",
    "        upper = mid - 1\n",
    "    else:\n",
    "        lower = mid + 1\n",
    "\n",
    "# 결과값 - 문제에 따라 upper + 1 이 될 수도 있음에 주의         \n",
    "print(lower - 1)\n",
    "```"
   ]
  },
  {
   "cell_type": "markdown",
   "id": "44835064",
   "metadata": {},
   "source": [
    "#### 3-1. 실전 문제 예시 1\n",
    "- https://www.acmicpc.net/problem/2110\n",
    "\n",
    "```python\n",
    "n, m = map(int, input().split(' '))\n",
    "house = []\n",
    "for _ in range(n):\n",
    "    house.append(int(input()))\n",
    "\n",
    "house.sort()\n",
    "lower = 1\n",
    "upper = house[-1]\n",
    "\n",
    "def is_possible(mid, house, m):\n",
    "    cnt = 1\n",
    "    cur_house = house[0]\n",
    "    for i in range(1, len(house)):\n",
    "        if house[i] - cur_house >= mid:\n",
    "            cnt += 1\n",
    "            cur_house = house[i]\n",
    "    if cnt >= m:\n",
    "        return True\n",
    "    return False\n",
    "\n",
    "while lower <= upper:\n",
    "    mid = (lower + upper) // 2\n",
    "    if not is_possible(mid, house, m):\n",
    "        upper = mid - 1\n",
    "    else:\n",
    "        lower = mid + 1\n",
    "\n",
    "print(lower-1)\n",
    "```"
   ]
  },
  {
   "cell_type": "markdown",
   "id": "d881b595",
   "metadata": {},
   "source": [
    "#### 3-1. 실전 문제 예시 2\n",
    "- https://programmers.co.kr/learn/courses/30/lessons/43236\n",
    "\n",
    "```python\n",
    "def is_possible(rocks, n, mid):\n",
    "    remove_rock = 0\n",
    "    cur_rock = 0\n",
    "    for i in rocks:\n",
    "        if i - cur_rock < mid:\n",
    "            remove_rock += 1\n",
    "        if i >= mid + cur_rock:\n",
    "            cur_rock = i\n",
    "    return remove_rock <= n\n",
    "\n",
    "def solution(distance, rocks, n):\n",
    "    rocks.sort()\n",
    "    lower = 1\n",
    "    upper = distance\n",
    "    \n",
    "    while lower<=upper:\n",
    "        mid = (lower + upper) // 2\n",
    "        if is_possible(rocks, n, mid):\n",
    "            lower = mid + 1\n",
    "        else:\n",
    "            upper = mid - 1\n",
    "\n",
    "    return lower - 1\n",
    "```"
   ]
  }
 ],
 "metadata": {
  "kernelspec": {
   "display_name": "py38_transformers",
   "language": "python",
   "name": "py38"
  },
  "language_info": {
   "codemirror_mode": {
    "name": "ipython",
    "version": 3
   },
   "file_extension": ".py",
   "mimetype": "text/x-python",
   "name": "python",
   "nbconvert_exporter": "python",
   "pygments_lexer": "ipython3",
   "version": "3.8.12"
  }
 },
 "nbformat": 4,
 "nbformat_minor": 5
}